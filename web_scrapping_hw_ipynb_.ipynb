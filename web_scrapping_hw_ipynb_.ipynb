{
  "nbformat": 4,
  "nbformat_minor": 0,
  "metadata": {
    "colab": {
      "provenance": []
    },
    "kernelspec": {
      "name": "python3",
      "display_name": "Python 3"
    },
    "language_info": {
      "name": "python"
    }
  },
  "cells": [
    {
      "cell_type": "markdown",
      "source": [
        "Необходимо парсить страницу со свежими вакансиями с поиском по \"Python\" и городами \"Москва\" и \"Санкт-Петербург\". Эти параметры задаются по ссылке\n",
        "Нужно выбрать те вакансии, у которых в описании есть ключевые слова \"Django\" и \"Flask\".\n",
        "Записать в json информацию о каждой вакансии - ссылка, вилка зп, название компании, город.\n",
        "\n",
        "Ссылка: https://spb.hh.ru/search/vacancy?text=python&area=1&area=2"
      ],
      "metadata": {
        "id": "e_9iv1ifa06M"
      }
    },
    {
      "cell_type": "code",
      "source": [
        "import bs4\n",
        "import requests"
      ],
      "metadata": {
        "id": "Et9LuISxPWKf"
      },
      "execution_count": 35,
      "outputs": []
    },
    {
      "cell_type": "code",
      "source": [
        "!pip install fake_headers # библиотека для созадния фейковых хедеров."
      ],
      "metadata": {
        "colab": {
          "base_uri": "https://localhost:8080/"
        },
        "id": "_N9sbkXhU3GV",
        "outputId": "e7579d49-307a-471d-e8b9-e2596eb338e1"
      },
      "execution_count": 36,
      "outputs": [
        {
          "output_type": "stream",
          "name": "stdout",
          "text": [
            "Requirement already satisfied: fake_headers in /usr/local/lib/python3.10/dist-packages (1.0.2)\n",
            "Requirement already satisfied: bs4 in /usr/local/lib/python3.10/dist-packages (from fake_headers) (0.0.2)\n",
            "Requirement already satisfied: html5lib in /usr/local/lib/python3.10/dist-packages (from fake_headers) (1.1)\n",
            "Requirement already satisfied: beautifulsoup4 in /usr/local/lib/python3.10/dist-packages (from bs4->fake_headers) (4.12.3)\n",
            "Requirement already satisfied: six>=1.9 in /usr/local/lib/python3.10/dist-packages (from html5lib->fake_headers) (1.16.0)\n",
            "Requirement already satisfied: webencodings in /usr/local/lib/python3.10/dist-packages (from html5lib->fake_headers) (0.5.1)\n",
            "Requirement already satisfied: soupsieve>1.2 in /usr/local/lib/python3.10/dist-packages (from beautifulsoup4->bs4->fake_headers) (2.5)\n"
          ]
        }
      ]
    },
    {
      "cell_type": "code",
      "source": [
        "from fake_headers import Headers\n",
        "\n",
        "def get_fake_headers():\n",
        "  return Headers(browser = 'chrome', os = 'win').generate()"
      ],
      "metadata": {
        "collapsed": true,
        "id": "7HHVm48SUDJ7"
      },
      "execution_count": 37,
      "outputs": []
    },
    {
      "cell_type": "code",
      "source": [
        "response = requests.get('https://spb.hh.ru/search/vacancy?text=python&area=1&area=2', headers =get_fake_headers())\n",
        "\n",
        "response.request.headers # сейчас с браузера"
      ],
      "metadata": {
        "colab": {
          "base_uri": "https://localhost:8080/"
        },
        "id": "RQa37OTxU9Lb",
        "outputId": "538ae61e-8ac7-4dee-aadc-6dc7c36ca0ba"
      },
      "execution_count": 38,
      "outputs": [
        {
          "output_type": "execute_result",
          "data": {
            "text/plain": [
              "{'User-Agent': 'Mozilla/5.0 (Windows NT 10.0; WOW64) AppleWebKit/537.36 (KHTML, like Gecko) Chrome/66.0.3359.170 Safari/537.36', 'Accept-Encoding': 'gzip, deflate', 'Accept': '*/*', 'Connection': 'keep-alive'}"
            ]
          },
          "metadata": {},
          "execution_count": 38
        }
      ]
    },
    {
      "cell_type": "code",
      "source": [
        "# поиски\n",
        "# 1)Pyton -название вакансии.\n",
        "# 2) Город - Москва и Спб\n",
        "# 3) провалисть в описание вакансии и там найти jango и flask"
      ],
      "metadata": {
        "id": "lgdT_OFxdQmM"
      },
      "execution_count": 39,
      "outputs": []
    },
    {
      "cell_type": "code",
      "source": [
        "main_page_data = bs4.BeautifulSoup(response.text,  features = 'lxml') # Здесь хранится весть текст страницы"
      ],
      "metadata": {
        "id": "Hw1I-wCeWgxA"
      },
      "execution_count": 40,
      "outputs": []
    },
    {
      "cell_type": "code",
      "source": [
        "# Сначала нужно найти описание вакансий"
      ],
      "metadata": {
        "id": "KiHFb1KQApq2"
      },
      "execution_count": 41,
      "outputs": []
    },
    {
      "cell_type": "code",
      "source": [
        "#'bloko-column bloko-column_xs-4 bloko-column_s-8 bloko-column_m-8 bloko-column_l-12'"
      ],
      "metadata": {
        "id": "a9MlrYrdCBUS"
      },
      "execution_count": 42,
      "outputs": []
    },
    {
      "cell_type": "code",
      "source": [
        "names_data =main_page_data.findAll('span', class_ = 'vacancy-name--SYbxrgpHgHedVTkgI_cA serp-item__title-link serp-item__title-link_redesign')\n",
        "len(names)# 20 статей на станице"
      ],
      "metadata": {
        "colab": {
          "base_uri": "https://localhost:8080/"
        },
        "id": "T12UNOQjoU1G",
        "outputId": "40f2194d-b101-435e-92f1-6a5105772e5e"
      },
      "execution_count": 200,
      "outputs": [
        {
          "output_type": "execute_result",
          "data": {
            "text/plain": [
              "20"
            ]
          },
          "metadata": {},
          "execution_count": 200
        }
      ]
    },
    {
      "cell_type": "code",
      "source": [
        "# название вакансий\n",
        "names =[]\n",
        "\n",
        "for name in names_data:\n",
        "  names.append(name.text)\n",
        "\n",
        "\n",
        "\n",
        "pprint(names)"
      ],
      "metadata": {
        "colab": {
          "base_uri": "https://localhost:8080/"
        },
        "id": "mflbIHwSo_rp",
        "outputId": "a67b33f8-7c50-4ac8-8170-338fd88ba7fc"
      },
      "execution_count": 204,
      "outputs": [
        {
          "output_type": "stream",
          "name": "stdout",
          "text": [
            "['Системный аналитик',\n",
            " 'Инженер-разработчик',\n",
            " 'Младший python-разработчик',\n",
            " 'Python разработчик',\n",
            " 'Разработчик Python',\n",
            " 'Разработчик Python',\n",
            " 'Ведущий разработчик (Python)',\n",
            " 'Python разработчик (senior)',\n",
            " 'Team Lead (Python)',\n",
            " 'Python Backend developer',\n",
            " 'Python разработчик (middle)',\n",
            " 'Python Developer Middle+/Senior',\n",
            " 'Python разработчик (DS Core)',\n",
            " 'Ведущий программист php/python',\n",
            " 'Backend Python-developer (Django)',\n",
            " 'Программист Python (ML-модели)',\n",
            " 'Backend developer (Python + Go)',\n",
            " 'Junior/Middle Python-разработчик',\n",
            " 'Python разработчик',\n",
            " 'Python-разработчик']\n"
          ]
        }
      ]
    },
    {
      "cell_type": "code",
      "source": [
        "# 2) Город - Москва и Спб\n",
        "#зашито глубоко ниже по уровням\n",
        "#<span class=\"fake-magritte-primary-text--qmdoVdtVX3UWtBb3Q7Qj\">Москва</span>"
      ],
      "metadata": {
        "id": "T8EdkTTRo0WU"
      },
      "execution_count": 45,
      "outputs": []
    },
    {
      "cell_type": "code",
      "source": [
        "#class = serp-item-control-xs-only--TtEuxuHSINMBcyYiTHf_\n",
        "#<span class=\"fake-magritte-primary-text--qmdoVdtVX3UWtBb3Q7Qj\">Москва</span></span>"
      ],
      "metadata": {
        "id": "99VTgk2YFgGC"
      },
      "execution_count": 46,
      "outputs": []
    },
    {
      "cell_type": "code",
      "source": [
        "cities =main_page_data.findAll('span', class_ = 'fake-magritte-primary-text--qmdoVdtVX3UWtBb3Q7Qj')\n"
      ],
      "metadata": {
        "id": "CM9A0xc1_96I"
      },
      "execution_count": 51,
      "outputs": []
    },
    {
      "cell_type": "code",
      "source": [
        "import re\n",
        "\n",
        "city_list =[]\n",
        "\n",
        "for city in cities:\n",
        "  print(city.text)"
      ],
      "metadata": {
        "colab": {
          "base_uri": "https://localhost:8080/"
        },
        "id": "vbZT5u7Z_92w",
        "outputId": "f79fa876-a140-40d4-a3b0-f6b1f485998c"
      },
      "execution_count": 52,
      "outputs": [
        {
          "output_type": "stream",
          "name": "stdout",
          "text": [
            "150 000 – 175 000 ₽ на руки\n",
            "150 000 – 175 000 ₽ на руки\n",
            "Москва\n",
            "Москва\n",
            "от 110 000 ₽ на руки\n",
            "от 110 000 ₽ на руки\n",
            "Санкт-Петербург\n",
            "Санкт-Петербург\n",
            "85 000 – 100 000 ₽ на руки\n",
            "85 000 – 100 000 ₽ на руки\n",
            "Санкт-Петербург\n",
            "Санкт-Петербург\n",
            "Москва\n",
            "Москва\n",
            "Москва\n",
            "Москва\n",
            "Москва\n",
            "Москва\n",
            "Москва\n",
            "Москва\n",
            "250 000 – 250 000 ₽ на руки\n",
            "250 000 – 250 000 ₽ на руки\n",
            "Москва\n",
            "Москва\n",
            "Москва\n",
            "Москва\n",
            "до 195 000 ₽ на руки\n",
            "до 195 000 ₽ на руки\n",
            "Москва\n",
            "Москва\n",
            "от 120 000 ₽ на руки\n",
            "от 120 000 ₽ на руки\n",
            "Москва\n",
            "Москва\n",
            "Москва\n",
            "Москва\n",
            "Москва\n",
            "Москва\n",
            "от 150 000 ₽ на руки\n",
            "от 150 000 ₽ на руки\n",
            "Санкт-Петербург\n",
            " и еще 1 \n",
            "Санкт-Петербург\n",
            " и еще 1 \n",
            "до 280 000 ₽ на руки\n",
            "до 280 000 ₽ на руки\n",
            "Москва\n",
            "Москва\n",
            "Москва\n",
            "Москва\n",
            "Москва\n",
            "Москва\n",
            "Москва\n",
            " и еще 3 \n",
            "Москва\n",
            " и еще 3 \n",
            "Москва\n",
            "Москва\n",
            "от 80 000 ₽ на руки\n",
            "от 80 000 ₽ на руки\n",
            "Москва\n",
            "Москва\n"
          ]
        }
      ]
    },
    {
      "cell_type": "code",
      "source": [
        "import re\n",
        "\n",
        "city_list =[]\n",
        "# удаляем строки с цифрами в тектсе.\n",
        "for city in cities:\n",
        "  if re.search('\\d+', city.text) is not None:\n",
        "    pass\n",
        "  else:\n",
        "    city_list.append(city.text)\n",
        "\n",
        "city_list"
      ],
      "metadata": {
        "colab": {
          "base_uri": "https://localhost:8080/"
        },
        "id": "3XKCWNN8_9z3",
        "outputId": "dcdc377f-2581-4f7e-ead1-3764e27d025d"
      },
      "execution_count": 59,
      "outputs": [
        {
          "output_type": "execute_result",
          "data": {
            "text/plain": [
              "['Москва',\n",
              " 'Москва',\n",
              " 'Санкт-Петербург',\n",
              " 'Санкт-Петербург',\n",
              " 'Санкт-Петербург',\n",
              " 'Санкт-Петербург',\n",
              " 'Москва',\n",
              " 'Москва',\n",
              " 'Москва',\n",
              " 'Москва',\n",
              " 'Москва',\n",
              " 'Москва',\n",
              " 'Москва',\n",
              " 'Москва',\n",
              " 'Москва',\n",
              " 'Москва',\n",
              " 'Москва',\n",
              " 'Москва',\n",
              " 'Москва',\n",
              " 'Москва',\n",
              " 'Москва',\n",
              " 'Москва',\n",
              " 'Москва',\n",
              " 'Москва',\n",
              " 'Москва',\n",
              " 'Москва',\n",
              " 'Санкт-Петербург',\n",
              " 'Санкт-Петербург',\n",
              " 'Москва',\n",
              " 'Москва',\n",
              " 'Москва',\n",
              " 'Москва',\n",
              " 'Москва',\n",
              " 'Москва',\n",
              " 'Москва',\n",
              " 'Москва',\n",
              " 'Москва',\n",
              " 'Москва',\n",
              " 'Москва',\n",
              " 'Москва']"
            ]
          },
          "metadata": {},
          "execution_count": 59
        }
      ]
    },
    {
      "cell_type": "code",
      "source": [
        "print(len(city_list))# значения задвоены. Нужно вывести каждое второе значение"
      ],
      "metadata": {
        "colab": {
          "base_uri": "https://localhost:8080/"
        },
        "id": "74s-pgI7_9w0",
        "outputId": "ef1eacf9-2550-4ae4-e264-0c33d359fafb"
      },
      "execution_count": 60,
      "outputs": [
        {
          "output_type": "stream",
          "name": "stdout",
          "text": [
            "40\n"
          ]
        }
      ]
    },
    {
      "cell_type": "code",
      "source": [
        "city_list= [city_list[i] for i in range(1, len(city_list), 2)]\n",
        "pprint(city_list)"
      ],
      "metadata": {
        "colab": {
          "base_uri": "https://localhost:8080/"
        },
        "id": "3B2nCuNATfo5",
        "outputId": "5037a6bc-9aaa-4732-ae67-107dc13eb8bc"
      },
      "execution_count": 61,
      "outputs": [
        {
          "output_type": "stream",
          "name": "stdout",
          "text": [
            "['Москва',\n",
            " 'Санкт-Петербург',\n",
            " 'Санкт-Петербург',\n",
            " 'Москва',\n",
            " 'Москва',\n",
            " 'Москва',\n",
            " 'Москва',\n",
            " 'Москва',\n",
            " 'Москва',\n",
            " 'Москва',\n",
            " 'Москва',\n",
            " 'Москва',\n",
            " 'Москва',\n",
            " 'Санкт-Петербург',\n",
            " 'Москва',\n",
            " 'Москва',\n",
            " 'Москва',\n",
            " 'Москва',\n",
            " 'Москва',\n",
            " 'Москва']\n"
          ]
        }
      ]
    },
    {
      "cell_type": "code",
      "source": [
        "len(city_list)"
      ],
      "metadata": {
        "colab": {
          "base_uri": "https://localhost:8080/"
        },
        "id": "g0FErQYdUWYe",
        "outputId": "406fc4fd-c4bf-4590-e48b-62fccb73852a"
      },
      "execution_count": 62,
      "outputs": [
        {
          "output_type": "execute_result",
          "data": {
            "text/plain": [
              "20"
            ]
          },
          "metadata": {},
          "execution_count": 62
        }
      ]
    },
    {
      "cell_type": "markdown",
      "source": [],
      "metadata": {
        "id": "I6fF5E_tVEAs"
      }
    },
    {
      "cell_type": "code",
      "source": [
        "#Нужно выбрать те вакансии, у которых в описании есть ключевые слова \"Django\" и \"Flask\"."
      ],
      "metadata": {
        "id": "KHpCYcA6UZVk"
      },
      "execution_count": null,
      "outputs": []
    },
    {
      "cell_type": "code",
      "source": [
        "# Сначала нужно получить ссылки на эти вакансии\n",
        "bloko_links = main_page_data.findAll(class_=\"serp-item__title-link-wrapper\", )"
      ],
      "metadata": {
        "id": "OYbzhOMgUZKo"
      },
      "execution_count": 104,
      "outputs": []
    },
    {
      "cell_type": "code",
      "source": [
        "bloko_links"
      ],
      "metadata": {
        "colab": {
          "base_uri": "https://localhost:8080/"
        },
        "id": "D4JLUd3XXXMo",
        "outputId": "2aebd4a7-e134-4eba-be13-09b8f9bd076e"
      },
      "execution_count": 105,
      "outputs": [
        {
          "output_type": "execute_result",
          "data": {
            "text/plain": [
              "[<span class=\"serp-item__title-link-wrapper\"><a class=\"bloko-link\" href=\"https://adsrv.hh.ru/click?b=1029222&amp;place=35&amp;meta=SzJfc88EsMJMF7D62KEGaOd0AU0o-3NWN2z5lCwwMsQYVUSAs2Yfzu6OgISLxgjpzlzy-6AFPtBiCTT_8vj3xFLnWm4Xs5nyyxyEeOWns9mbHbg7aHVSv_SBzOb9qRg_Axqf8RkqcTiP6OZ832NdWHhLU_tLdtdk_-hEHoYRGCvL1PQESq-eItlPGeY5Q2gEUBLM6fUmLimiw9K3lNk8T32LH8VFzkbfukZLlIWRnV38_5tYe5lS3uAfu7VEThsYV_k_rdH2KVv7yUeDBCWOFGkjgAkjppUyxCQ_SOXEyoaOIkkzg9CPJv2ZwtmrdGUK4IU3kk34-N3CbXuR8fGMadvlw2bjxYueOUlTnx82f1xMh7vkJrgMCdBiX17CbnqndOwEcoPGv3ns-HadrUpyxLVO185g6rpxcdnmssZNFDX7JmG3fyvI2SfVUudFS8B_M32WYAbsl53MuIQG9Uqf3BGueuf-DRMxVFXb1DeXcifv8rLzLRmQlhXv0SnA9nBlgjy3hE4ieMHoPwg2Hm4zHg%3D%3D&amp;clickType=link_to_vacancy\" target=\"_blank\"><span class=\"vacancy-name--SYbxrgpHgHedVTkgI_cA serp-item__title-link serp-item__title-link_redesign\" data-qa=\"serp-item__title\">Системный аналитик</span></a></span>,\n",
              " <span class=\"serp-item__title-link-wrapper\"><a class=\"bloko-link\" href=\"https://adsrv.hh.ru/click?b=1026782&amp;place=36&amp;meta=6Xxi3yCOGTqwHK1XaBTza13fBU-sqQt3naCvwrRQ22N18RQR1AIXbn9SkQkizTF9h3VSmi12fC-ZlBKu1TakAF_ppBKY_TJaabEo-fp_u0hsbmME3e23Y722wV1lSzACUQbO7bNpyAOEeFSdVqFVt3i1ivHSxGw3RF4-qFNtVLdNV5iJI6ANbmVFq-y3oYX0WQ5YerNo92-zC98uW02ugkLdW5CDck0BYtgPhiVdE1O7nxP3y0NdIDc82_dHJcOxqiLPd4AOG8yoi6wCd2SdQUhWGP2rDtYtXl0Sp2itUjkLjrdGw6kz-NeZjB8H9o3QlbjkzxZKawaIs5R3hFVIsDgPV7VlZ1wihmopZxxShDBLc6aArykp-kyDxzPJb_fKcF08dLoHe5afkpK9LzZuDE_MRfj2ZjKn2y8h9NA3jNQ6mzXRUz54vzZEFDHl1T11aL0czPN-61wGx5vAyg1BmksMHjnLapaeaCPhPvtMzgsfayVptM02rvW9az9cxeH7TqIfbxSTQTtzXMCUGV0M3A%3D%3D&amp;clickType=link_to_vacancy\" target=\"_blank\"><span class=\"vacancy-name--SYbxrgpHgHedVTkgI_cA serp-item__title-link serp-item__title-link_redesign\" data-qa=\"serp-item__title\">Инженер-разработчик</span></a></span>,\n",
              " <span class=\"serp-item__title-link-wrapper\"><a class=\"bloko-link\" href=\"https://spb.hh.ru/vacancy/99725937?query=python&amp;hhtmFrom=vacancy_search_list\" target=\"_blank\"><span class=\"vacancy-name--SYbxrgpHgHedVTkgI_cA serp-item__title-link serp-item__title-link_redesign\" data-qa=\"serp-item__title\">Младший python-разработчик<span class=\"premium-container--uA8fy8wpKHKzB1xCIOYe\"><svg aria-hidden=\"true\" class=\"magritte-icon___rRr4Q_7-0-0 magritte-icon_initial-negative___jrGEi_7-0-0\" fill=\"none\" focusable=\"false\" height=\"16\" role=\"img\" viewbox=\"0 0 16 16\" width=\"16\" xmlns=\"http://www.w3.org/2000/svg\"><path clip-rule=\"evenodd\" d=\"M8 16C12.4183 16 16 12.4183 16 8C16 3.58172 12.4183 0 8 0C3.58172 0 0 3.58172 0 8C0 12.4183 3.58172 16 8 16ZM12.9997 8.85373C13.0226 11.5173 10.882 13.6953 8.2184 13.7182C5.62316 13.7407 3.47552 11.7054 3.3586 9.11265C3.35352 9.02635 3.35352 8.94004 3.35352 8.85373V8.85367C3.35087 7.42632 3.98349 6.07182 5.07972 5.1577C5.27008 5.80261 5.59543 6.39967 6.03418 6.90923C6.44181 6.18565 6.65518 5.36886 6.65352 4.53836L6.65352 4.53847C6.6527 3.64863 6.42168 2.77414 5.98291 2C8.99685 2.5449 11.1972 5.15642 11.2227 8.21912C11.2236 8.26318 11.2219 8.30725 11.2177 8.35112C11.7963 8.16459 12.3326 7.86617 12.7961 7.47281C12.9317 7.92055 13.0003 8.3859 12.9997 8.85373L12.9997 8.85373ZM8.50638 8.09237C8.57153 8.0665 8.64532 8.09835 8.67118 8.16351C8.68762 8.20491 8.68114 8.2519 8.65412 8.28732C8.17366 8.94663 8.11214 9.82249 8.49572 10.5425C8.72125 10.3849 8.89311 10.162 8.98818 9.90381C9.0082 9.83634 9.07913 9.79787 9.1466 9.81789C9.15303 9.8198 9.15931 9.82222 9.16537 9.82512C9.85084 10.1636 10.2628 10.8837 10.2071 11.6462C10.2292 12.7457 9.35586 13.6549 8.25638 13.677C8.22972 13.6775 8.20305 13.6775 8.17638 13.677C7.04978 13.6722 6.14033 12.7551 6.14506 11.6285C6.14512 11.6153 6.1453 11.6021 6.14562 11.5888C6.16334 10.0564 7.0916 8.68156 8.50638 8.09237Z\" fill=\"var(--magritte-ui-icon-color)\" fill-rule=\"evenodd\"></path></svg></span></span></a></span>,\n",
              " <span class=\"serp-item__title-link-wrapper\"><a class=\"bloko-link\" href=\"https://spb.hh.ru/vacancy/97607346?query=python&amp;hhtmFrom=vacancy_search_list\" target=\"_blank\"><span class=\"vacancy-name--SYbxrgpHgHedVTkgI_cA serp-item__title-link serp-item__title-link_redesign\" data-qa=\"serp-item__title\">Python разработчик</span></a></span>,\n",
              " <span class=\"serp-item__title-link-wrapper\"><a class=\"bloko-link\" href=\"https://spb.hh.ru/vacancy/98774322?query=python&amp;hhtmFrom=vacancy_search_list\" target=\"_blank\"><span class=\"vacancy-name--SYbxrgpHgHedVTkgI_cA serp-item__title-link serp-item__title-link_redesign\" data-qa=\"serp-item__title\">Разработчик Python</span></a></span>,\n",
              " <span class=\"serp-item__title-link-wrapper\"><a class=\"bloko-link\" href=\"https://spb.hh.ru/vacancy/98765752?query=python&amp;hhtmFrom=vacancy_search_list\" target=\"_blank\"><span class=\"vacancy-name--SYbxrgpHgHedVTkgI_cA serp-item__title-link serp-item__title-link_redesign\" data-qa=\"serp-item__title\">Разработчик Python</span></a></span>,\n",
              " <span class=\"serp-item__title-link-wrapper\"><a class=\"bloko-link\" href=\"https://spb.hh.ru/vacancy/97453244?query=python&amp;hhtmFrom=vacancy_search_list\" target=\"_blank\"><span class=\"vacancy-name--SYbxrgpHgHedVTkgI_cA serp-item__title-link serp-item__title-link_redesign\" data-qa=\"serp-item__title\">Ведущий разработчик (Python)</span></a></span>,\n",
              " <span class=\"serp-item__title-link-wrapper\"><a class=\"bloko-link\" href=\"https://spb.hh.ru/vacancy/99822005?query=python&amp;hhtmFrom=vacancy_search_list\" target=\"_blank\"><span class=\"vacancy-name--SYbxrgpHgHedVTkgI_cA serp-item__title-link serp-item__title-link_redesign\" data-qa=\"serp-item__title\">Python разработчик (senior)</span></a></span>,\n",
              " <span class=\"serp-item__title-link-wrapper\"><a class=\"bloko-link\" href=\"https://spb.hh.ru/vacancy/99821021?query=python&amp;hhtmFrom=vacancy_search_list\" target=\"_blank\"><span class=\"vacancy-name--SYbxrgpHgHedVTkgI_cA serp-item__title-link serp-item__title-link_redesign\" data-qa=\"serp-item__title\">Team Lead (Python)</span></a></span>,\n",
              " <span class=\"serp-item__title-link-wrapper\"><a class=\"bloko-link\" href=\"https://spb.hh.ru/vacancy/98783481?query=python&amp;hhtmFrom=vacancy_search_list\" target=\"_blank\"><span class=\"vacancy-name--SYbxrgpHgHedVTkgI_cA serp-item__title-link serp-item__title-link_redesign\" data-qa=\"serp-item__title\">Python Backend developer</span></a></span>,\n",
              " <span class=\"serp-item__title-link-wrapper\"><a class=\"bloko-link\" href=\"https://spb.hh.ru/vacancy/99802050?query=python&amp;hhtmFrom=vacancy_search_list\" target=\"_blank\"><span class=\"vacancy-name--SYbxrgpHgHedVTkgI_cA serp-item__title-link serp-item__title-link_redesign\" data-qa=\"serp-item__title\">Python разработчик (middle)</span></a></span>,\n",
              " <span class=\"serp-item__title-link-wrapper\"><a class=\"bloko-link\" href=\"https://spb.hh.ru/vacancy/98675477?query=python&amp;hhtmFrom=vacancy_search_list\" target=\"_blank\"><span class=\"vacancy-name--SYbxrgpHgHedVTkgI_cA serp-item__title-link serp-item__title-link_redesign\" data-qa=\"serp-item__title\">Python Developer Middle+/Senior</span></a></span>,\n",
              " <span class=\"serp-item__title-link-wrapper\"><a class=\"bloko-link\" href=\"https://spb.hh.ru/vacancy/98783073?query=python&amp;hhtmFrom=vacancy_search_list\" target=\"_blank\"><span class=\"vacancy-name--SYbxrgpHgHedVTkgI_cA serp-item__title-link serp-item__title-link_redesign\" data-qa=\"serp-item__title\">Python разработчик (DS Core)</span></a></span>,\n",
              " <span class=\"serp-item__title-link-wrapper\"><a class=\"bloko-link\" href=\"https://spb.hh.ru/vacancy/99816810?query=python&amp;hhtmFrom=vacancy_search_list\" target=\"_blank\"><span class=\"vacancy-name--SYbxrgpHgHedVTkgI_cA serp-item__title-link serp-item__title-link_redesign\" data-qa=\"serp-item__title\">Ведущий программист php/python</span></a></span>,\n",
              " <span class=\"serp-item__title-link-wrapper\"><a class=\"bloko-link\" href=\"https://spb.hh.ru/vacancy/95778303?query=python&amp;hhtmFrom=vacancy_search_list\" target=\"_blank\"><span class=\"vacancy-name--SYbxrgpHgHedVTkgI_cA serp-item__title-link serp-item__title-link_redesign\" data-qa=\"serp-item__title\">Backend Python-developer (Django)</span></a></span>,\n",
              " <span class=\"serp-item__title-link-wrapper\"><a class=\"bloko-link\" href=\"https://spb.hh.ru/vacancy/98762684?query=python&amp;hhtmFrom=vacancy_search_list\" target=\"_blank\"><span class=\"vacancy-name--SYbxrgpHgHedVTkgI_cA serp-item__title-link serp-item__title-link_redesign\" data-qa=\"serp-item__title\">Программист Python (ML-модели)</span></a></span>,\n",
              " <span class=\"serp-item__title-link-wrapper\"><a class=\"bloko-link\" href=\"https://spb.hh.ru/vacancy/98783128?query=python&amp;hhtmFrom=vacancy_search_list\" target=\"_blank\"><span class=\"vacancy-name--SYbxrgpHgHedVTkgI_cA serp-item__title-link serp-item__title-link_redesign\" data-qa=\"serp-item__title\">Backend developer (Python + Go)</span></a></span>,\n",
              " <span class=\"serp-item__title-link-wrapper\"><a class=\"bloko-link\" href=\"https://spb.hh.ru/vacancy/99111549?query=python&amp;hhtmFrom=vacancy_search_list\" target=\"_blank\"><span class=\"vacancy-name--SYbxrgpHgHedVTkgI_cA serp-item__title-link serp-item__title-link_redesign\" data-qa=\"serp-item__title\">Junior/Middle Python-разработчик</span></a></span>,\n",
              " <span class=\"serp-item__title-link-wrapper\"><a class=\"bloko-link\" href=\"https://spb.hh.ru/vacancy/97839143?query=python&amp;hhtmFrom=vacancy_search_list\" target=\"_blank\"><span class=\"vacancy-name--SYbxrgpHgHedVTkgI_cA serp-item__title-link serp-item__title-link_redesign\" data-qa=\"serp-item__title\">Python разработчик</span></a></span>,\n",
              " <span class=\"serp-item__title-link-wrapper\"><a class=\"bloko-link\" href=\"https://spb.hh.ru/vacancy/99068368?query=python&amp;hhtmFrom=vacancy_search_list\" target=\"_blank\"><span class=\"vacancy-name--SYbxrgpHgHedVTkgI_cA serp-item__title-link serp-item__title-link_redesign\" data-qa=\"serp-item__title\">Python-разработчик</span></a></span>]"
            ]
          },
          "metadata": {},
          "execution_count": 105
        }
      ]
    },
    {
      "cell_type": "code",
      "source": [
        "# получене тэгов со ссылками и списка ссылок\n",
        "links = []\n",
        "\n",
        "for bloko_link in bloko_links:\n",
        "  if  bloko_link is not None:\n",
        "    tag = bloko_link.find(class_=\"bloko-link\")\n",
        "    links.append(tag['href'])\n",
        "    print(tag)\n"
      ],
      "metadata": {
        "colab": {
          "base_uri": "https://localhost:8080/"
        },
        "id": "77VAF8qKVHNI",
        "outputId": "318b4e82-57dd-4e5f-de1b-a9a71368237f"
      },
      "execution_count": 116,
      "outputs": [
        {
          "output_type": "stream",
          "name": "stdout",
          "text": [
            "<a class=\"bloko-link\" href=\"https://adsrv.hh.ru/click?b=1029222&amp;place=35&amp;meta=SzJfc88EsMJMF7D62KEGaOd0AU0o-3NWN2z5lCwwMsQYVUSAs2Yfzu6OgISLxgjpzlzy-6AFPtBiCTT_8vj3xFLnWm4Xs5nyyxyEeOWns9mbHbg7aHVSv_SBzOb9qRg_Axqf8RkqcTiP6OZ832NdWHhLU_tLdtdk_-hEHoYRGCvL1PQESq-eItlPGeY5Q2gEUBLM6fUmLimiw9K3lNk8T32LH8VFzkbfukZLlIWRnV38_5tYe5lS3uAfu7VEThsYV_k_rdH2KVv7yUeDBCWOFGkjgAkjppUyxCQ_SOXEyoaOIkkzg9CPJv2ZwtmrdGUK4IU3kk34-N3CbXuR8fGMadvlw2bjxYueOUlTnx82f1xMh7vkJrgMCdBiX17CbnqndOwEcoPGv3ns-HadrUpyxLVO185g6rpxcdnmssZNFDX7JmG3fyvI2SfVUudFS8B_M32WYAbsl53MuIQG9Uqf3BGueuf-DRMxVFXb1DeXcifv8rLzLRmQlhXv0SnA9nBlgjy3hE4ieMHoPwg2Hm4zHg%3D%3D&amp;clickType=link_to_vacancy\" target=\"_blank\"><span class=\"vacancy-name--SYbxrgpHgHedVTkgI_cA serp-item__title-link serp-item__title-link_redesign\" data-qa=\"serp-item__title\">Системный аналитик</span></a>\n",
            "<a class=\"bloko-link\" href=\"https://adsrv.hh.ru/click?b=1026782&amp;place=36&amp;meta=6Xxi3yCOGTqwHK1XaBTza13fBU-sqQt3naCvwrRQ22N18RQR1AIXbn9SkQkizTF9h3VSmi12fC-ZlBKu1TakAF_ppBKY_TJaabEo-fp_u0hsbmME3e23Y722wV1lSzACUQbO7bNpyAOEeFSdVqFVt3i1ivHSxGw3RF4-qFNtVLdNV5iJI6ANbmVFq-y3oYX0WQ5YerNo92-zC98uW02ugkLdW5CDck0BYtgPhiVdE1O7nxP3y0NdIDc82_dHJcOxqiLPd4AOG8yoi6wCd2SdQUhWGP2rDtYtXl0Sp2itUjkLjrdGw6kz-NeZjB8H9o3QlbjkzxZKawaIs5R3hFVIsDgPV7VlZ1wihmopZxxShDBLc6aArykp-kyDxzPJb_fKcF08dLoHe5afkpK9LzZuDE_MRfj2ZjKn2y8h9NA3jNQ6mzXRUz54vzZEFDHl1T11aL0czPN-61wGx5vAyg1BmksMHjnLapaeaCPhPvtMzgsfayVptM02rvW9az9cxeH7TqIfbxSTQTtzXMCUGV0M3A%3D%3D&amp;clickType=link_to_vacancy\" target=\"_blank\"><span class=\"vacancy-name--SYbxrgpHgHedVTkgI_cA serp-item__title-link serp-item__title-link_redesign\" data-qa=\"serp-item__title\">Инженер-разработчик</span></a>\n",
            "<a class=\"bloko-link\" href=\"https://spb.hh.ru/vacancy/99725937?query=python&amp;hhtmFrom=vacancy_search_list\" target=\"_blank\"><span class=\"vacancy-name--SYbxrgpHgHedVTkgI_cA serp-item__title-link serp-item__title-link_redesign\" data-qa=\"serp-item__title\">Младший python-разработчик<span class=\"premium-container--uA8fy8wpKHKzB1xCIOYe\"><svg aria-hidden=\"true\" class=\"magritte-icon___rRr4Q_7-0-0 magritte-icon_initial-negative___jrGEi_7-0-0\" fill=\"none\" focusable=\"false\" height=\"16\" role=\"img\" viewbox=\"0 0 16 16\" width=\"16\" xmlns=\"http://www.w3.org/2000/svg\"><path clip-rule=\"evenodd\" d=\"M8 16C12.4183 16 16 12.4183 16 8C16 3.58172 12.4183 0 8 0C3.58172 0 0 3.58172 0 8C0 12.4183 3.58172 16 8 16ZM12.9997 8.85373C13.0226 11.5173 10.882 13.6953 8.2184 13.7182C5.62316 13.7407 3.47552 11.7054 3.3586 9.11265C3.35352 9.02635 3.35352 8.94004 3.35352 8.85373V8.85367C3.35087 7.42632 3.98349 6.07182 5.07972 5.1577C5.27008 5.80261 5.59543 6.39967 6.03418 6.90923C6.44181 6.18565 6.65518 5.36886 6.65352 4.53836L6.65352 4.53847C6.6527 3.64863 6.42168 2.77414 5.98291 2C8.99685 2.5449 11.1972 5.15642 11.2227 8.21912C11.2236 8.26318 11.2219 8.30725 11.2177 8.35112C11.7963 8.16459 12.3326 7.86617 12.7961 7.47281C12.9317 7.92055 13.0003 8.3859 12.9997 8.85373L12.9997 8.85373ZM8.50638 8.09237C8.57153 8.0665 8.64532 8.09835 8.67118 8.16351C8.68762 8.20491 8.68114 8.2519 8.65412 8.28732C8.17366 8.94663 8.11214 9.82249 8.49572 10.5425C8.72125 10.3849 8.89311 10.162 8.98818 9.90381C9.0082 9.83634 9.07913 9.79787 9.1466 9.81789C9.15303 9.8198 9.15931 9.82222 9.16537 9.82512C9.85084 10.1636 10.2628 10.8837 10.2071 11.6462C10.2292 12.7457 9.35586 13.6549 8.25638 13.677C8.22972 13.6775 8.20305 13.6775 8.17638 13.677C7.04978 13.6722 6.14033 12.7551 6.14506 11.6285C6.14512 11.6153 6.1453 11.6021 6.14562 11.5888C6.16334 10.0564 7.0916 8.68156 8.50638 8.09237Z\" fill=\"var(--magritte-ui-icon-color)\" fill-rule=\"evenodd\"></path></svg></span></span></a>\n",
            "<a class=\"bloko-link\" href=\"https://spb.hh.ru/vacancy/97607346?query=python&amp;hhtmFrom=vacancy_search_list\" target=\"_blank\"><span class=\"vacancy-name--SYbxrgpHgHedVTkgI_cA serp-item__title-link serp-item__title-link_redesign\" data-qa=\"serp-item__title\">Python разработчик</span></a>\n",
            "<a class=\"bloko-link\" href=\"https://spb.hh.ru/vacancy/98774322?query=python&amp;hhtmFrom=vacancy_search_list\" target=\"_blank\"><span class=\"vacancy-name--SYbxrgpHgHedVTkgI_cA serp-item__title-link serp-item__title-link_redesign\" data-qa=\"serp-item__title\">Разработчик Python</span></a>\n",
            "<a class=\"bloko-link\" href=\"https://spb.hh.ru/vacancy/98765752?query=python&amp;hhtmFrom=vacancy_search_list\" target=\"_blank\"><span class=\"vacancy-name--SYbxrgpHgHedVTkgI_cA serp-item__title-link serp-item__title-link_redesign\" data-qa=\"serp-item__title\">Разработчик Python</span></a>\n",
            "<a class=\"bloko-link\" href=\"https://spb.hh.ru/vacancy/97453244?query=python&amp;hhtmFrom=vacancy_search_list\" target=\"_blank\"><span class=\"vacancy-name--SYbxrgpHgHedVTkgI_cA serp-item__title-link serp-item__title-link_redesign\" data-qa=\"serp-item__title\">Ведущий разработчик (Python)</span></a>\n",
            "<a class=\"bloko-link\" href=\"https://spb.hh.ru/vacancy/99822005?query=python&amp;hhtmFrom=vacancy_search_list\" target=\"_blank\"><span class=\"vacancy-name--SYbxrgpHgHedVTkgI_cA serp-item__title-link serp-item__title-link_redesign\" data-qa=\"serp-item__title\">Python разработчик (senior)</span></a>\n",
            "<a class=\"bloko-link\" href=\"https://spb.hh.ru/vacancy/99821021?query=python&amp;hhtmFrom=vacancy_search_list\" target=\"_blank\"><span class=\"vacancy-name--SYbxrgpHgHedVTkgI_cA serp-item__title-link serp-item__title-link_redesign\" data-qa=\"serp-item__title\">Team Lead (Python)</span></a>\n",
            "<a class=\"bloko-link\" href=\"https://spb.hh.ru/vacancy/98783481?query=python&amp;hhtmFrom=vacancy_search_list\" target=\"_blank\"><span class=\"vacancy-name--SYbxrgpHgHedVTkgI_cA serp-item__title-link serp-item__title-link_redesign\" data-qa=\"serp-item__title\">Python Backend developer</span></a>\n",
            "<a class=\"bloko-link\" href=\"https://spb.hh.ru/vacancy/99802050?query=python&amp;hhtmFrom=vacancy_search_list\" target=\"_blank\"><span class=\"vacancy-name--SYbxrgpHgHedVTkgI_cA serp-item__title-link serp-item__title-link_redesign\" data-qa=\"serp-item__title\">Python разработчик (middle)</span></a>\n",
            "<a class=\"bloko-link\" href=\"https://spb.hh.ru/vacancy/98675477?query=python&amp;hhtmFrom=vacancy_search_list\" target=\"_blank\"><span class=\"vacancy-name--SYbxrgpHgHedVTkgI_cA serp-item__title-link serp-item__title-link_redesign\" data-qa=\"serp-item__title\">Python Developer Middle+/Senior</span></a>\n",
            "<a class=\"bloko-link\" href=\"https://spb.hh.ru/vacancy/98783073?query=python&amp;hhtmFrom=vacancy_search_list\" target=\"_blank\"><span class=\"vacancy-name--SYbxrgpHgHedVTkgI_cA serp-item__title-link serp-item__title-link_redesign\" data-qa=\"serp-item__title\">Python разработчик (DS Core)</span></a>\n",
            "<a class=\"bloko-link\" href=\"https://spb.hh.ru/vacancy/99816810?query=python&amp;hhtmFrom=vacancy_search_list\" target=\"_blank\"><span class=\"vacancy-name--SYbxrgpHgHedVTkgI_cA serp-item__title-link serp-item__title-link_redesign\" data-qa=\"serp-item__title\">Ведущий программист php/python</span></a>\n",
            "<a class=\"bloko-link\" href=\"https://spb.hh.ru/vacancy/95778303?query=python&amp;hhtmFrom=vacancy_search_list\" target=\"_blank\"><span class=\"vacancy-name--SYbxrgpHgHedVTkgI_cA serp-item__title-link serp-item__title-link_redesign\" data-qa=\"serp-item__title\">Backend Python-developer (Django)</span></a>\n",
            "<a class=\"bloko-link\" href=\"https://spb.hh.ru/vacancy/98762684?query=python&amp;hhtmFrom=vacancy_search_list\" target=\"_blank\"><span class=\"vacancy-name--SYbxrgpHgHedVTkgI_cA serp-item__title-link serp-item__title-link_redesign\" data-qa=\"serp-item__title\">Программист Python (ML-модели)</span></a>\n",
            "<a class=\"bloko-link\" href=\"https://spb.hh.ru/vacancy/98783128?query=python&amp;hhtmFrom=vacancy_search_list\" target=\"_blank\"><span class=\"vacancy-name--SYbxrgpHgHedVTkgI_cA serp-item__title-link serp-item__title-link_redesign\" data-qa=\"serp-item__title\">Backend developer (Python + Go)</span></a>\n",
            "<a class=\"bloko-link\" href=\"https://spb.hh.ru/vacancy/99111549?query=python&amp;hhtmFrom=vacancy_search_list\" target=\"_blank\"><span class=\"vacancy-name--SYbxrgpHgHedVTkgI_cA serp-item__title-link serp-item__title-link_redesign\" data-qa=\"serp-item__title\">Junior/Middle Python-разработчик</span></a>\n",
            "<a class=\"bloko-link\" href=\"https://spb.hh.ru/vacancy/97839143?query=python&amp;hhtmFrom=vacancy_search_list\" target=\"_blank\"><span class=\"vacancy-name--SYbxrgpHgHedVTkgI_cA serp-item__title-link serp-item__title-link_redesign\" data-qa=\"serp-item__title\">Python разработчик</span></a>\n",
            "<a class=\"bloko-link\" href=\"https://spb.hh.ru/vacancy/99068368?query=python&amp;hhtmFrom=vacancy_search_list\" target=\"_blank\"><span class=\"vacancy-name--SYbxrgpHgHedVTkgI_cA serp-item__title-link serp-item__title-link_redesign\" data-qa=\"serp-item__title\">Python-разработчик</span></a>\n"
          ]
        }
      ]
    },
    {
      "cell_type": "code",
      "source": [
        "pprint(links)"
      ],
      "metadata": {
        "colab": {
          "base_uri": "https://localhost:8080/"
        },
        "id": "5Qmt4uQWfs2m",
        "outputId": "d0971a3d-b590-4362-b501-b5d9f90a916b"
      },
      "execution_count": 118,
      "outputs": [
        {
          "output_type": "stream",
          "name": "stdout",
          "text": [
            "['https://adsrv.hh.ru/click?b=1029222&place=35&meta=SzJfc88EsMJMF7D62KEGaOd0AU0o-3NWN2z5lCwwMsQYVUSAs2Yfzu6OgISLxgjpzlzy-6AFPtBiCTT_8vj3xFLnWm4Xs5nyyxyEeOWns9mbHbg7aHVSv_SBzOb9qRg_Axqf8RkqcTiP6OZ832NdWHhLU_tLdtdk_-hEHoYRGCvL1PQESq-eItlPGeY5Q2gEUBLM6fUmLimiw9K3lNk8T32LH8VFzkbfukZLlIWRnV38_5tYe5lS3uAfu7VEThsYV_k_rdH2KVv7yUeDBCWOFGkjgAkjppUyxCQ_SOXEyoaOIkkzg9CPJv2ZwtmrdGUK4IU3kk34-N3CbXuR8fGMadvlw2bjxYueOUlTnx82f1xMh7vkJrgMCdBiX17CbnqndOwEcoPGv3ns-HadrUpyxLVO185g6rpxcdnmssZNFDX7JmG3fyvI2SfVUudFS8B_M32WYAbsl53MuIQG9Uqf3BGueuf-DRMxVFXb1DeXcifv8rLzLRmQlhXv0SnA9nBlgjy3hE4ieMHoPwg2Hm4zHg%3D%3D&clickType=link_to_vacancy',\n",
            " 'https://adsrv.hh.ru/click?b=1026782&place=36&meta=6Xxi3yCOGTqwHK1XaBTza13fBU-sqQt3naCvwrRQ22N18RQR1AIXbn9SkQkizTF9h3VSmi12fC-ZlBKu1TakAF_ppBKY_TJaabEo-fp_u0hsbmME3e23Y722wV1lSzACUQbO7bNpyAOEeFSdVqFVt3i1ivHSxGw3RF4-qFNtVLdNV5iJI6ANbmVFq-y3oYX0WQ5YerNo92-zC98uW02ugkLdW5CDck0BYtgPhiVdE1O7nxP3y0NdIDc82_dHJcOxqiLPd4AOG8yoi6wCd2SdQUhWGP2rDtYtXl0Sp2itUjkLjrdGw6kz-NeZjB8H9o3QlbjkzxZKawaIs5R3hFVIsDgPV7VlZ1wihmopZxxShDBLc6aArykp-kyDxzPJb_fKcF08dLoHe5afkpK9LzZuDE_MRfj2ZjKn2y8h9NA3jNQ6mzXRUz54vzZEFDHl1T11aL0czPN-61wGx5vAyg1BmksMHjnLapaeaCPhPvtMzgsfayVptM02rvW9az9cxeH7TqIfbxSTQTtzXMCUGV0M3A%3D%3D&clickType=link_to_vacancy',\n",
            " 'https://spb.hh.ru/vacancy/99725937?query=python&hhtmFrom=vacancy_search_list',\n",
            " 'https://spb.hh.ru/vacancy/97607346?query=python&hhtmFrom=vacancy_search_list',\n",
            " 'https://spb.hh.ru/vacancy/98774322?query=python&hhtmFrom=vacancy_search_list',\n",
            " 'https://spb.hh.ru/vacancy/98765752?query=python&hhtmFrom=vacancy_search_list',\n",
            " 'https://spb.hh.ru/vacancy/97453244?query=python&hhtmFrom=vacancy_search_list',\n",
            " 'https://spb.hh.ru/vacancy/99822005?query=python&hhtmFrom=vacancy_search_list',\n",
            " 'https://spb.hh.ru/vacancy/99821021?query=python&hhtmFrom=vacancy_search_list',\n",
            " 'https://spb.hh.ru/vacancy/98783481?query=python&hhtmFrom=vacancy_search_list',\n",
            " 'https://spb.hh.ru/vacancy/99802050?query=python&hhtmFrom=vacancy_search_list',\n",
            " 'https://spb.hh.ru/vacancy/98675477?query=python&hhtmFrom=vacancy_search_list',\n",
            " 'https://spb.hh.ru/vacancy/98783073?query=python&hhtmFrom=vacancy_search_list',\n",
            " 'https://spb.hh.ru/vacancy/99816810?query=python&hhtmFrom=vacancy_search_list',\n",
            " 'https://spb.hh.ru/vacancy/95778303?query=python&hhtmFrom=vacancy_search_list',\n",
            " 'https://spb.hh.ru/vacancy/98762684?query=python&hhtmFrom=vacancy_search_list',\n",
            " 'https://spb.hh.ru/vacancy/98783128?query=python&hhtmFrom=vacancy_search_list',\n",
            " 'https://spb.hh.ru/vacancy/99111549?query=python&hhtmFrom=vacancy_search_list',\n",
            " 'https://spb.hh.ru/vacancy/97839143?query=python&hhtmFrom=vacancy_search_list',\n",
            " 'https://spb.hh.ru/vacancy/99068368?query=python&hhtmFrom=vacancy_search_list']\n"
          ]
        }
      ]
    },
    {
      "cell_type": "code",
      "source": [
        "# Сcылки есть. Теперь необходимо получить описание каждой вакансии"
      ],
      "metadata": {
        "id": "DjCBaZl1gFRz"
      },
      "execution_count": null,
      "outputs": []
    },
    {
      "cell_type": "code",
      "source": [
        "#bloko-column bloko-column_xs-4 bloko-column_s-8 bloko-column_m-12 bloko-column_l-10\n",
        "#g-user-content"
      ],
      "metadata": {
        "id": "MtjPsGWAVHI6"
      },
      "execution_count": null,
      "outputs": []
    },
    {
      "cell_type": "code",
      "source": [
        "#сделаем сначала для одной ссылки"
      ],
      "metadata": {
        "id": "_x-_mskKhKaT"
      },
      "execution_count": null,
      "outputs": []
    },
    {
      "cell_type": "code",
      "source": [
        "response = requests.get(links[0], headers =get_fake_headers())\n",
        "vacancy_data = bs4.BeautifulSoup(response.text,  features = 'lxml') # Здесь хранится весть текст страницы\n"
      ],
      "metadata": {
        "id": "RqpvVwvwhOBj"
      },
      "execution_count": 151,
      "outputs": []
    },
    {
      "cell_type": "code",
      "source": [
        "#class_ = 'bloko-column bloko-column_xs-4 bloko-column_s-8 bloko-column_m-12 bloko-column_l-10'"
      ],
      "metadata": {
        "id": "1vZYP4ZZiTwQ"
      },
      "execution_count": null,
      "outputs": []
    },
    {
      "cell_type": "code",
      "source": [
        "description  =vacancy_data.find(class_ = 'g-user-content')"
      ],
      "metadata": {
        "id": "tmhhPbCDqJUs"
      },
      "execution_count": 156,
      "outputs": []
    },
    {
      "cell_type": "code",
      "source": [
        "description.text # Описание получено."
      ],
      "metadata": {
        "colab": {
          "base_uri": "https://localhost:8080/",
          "height": 261
        },
        "id": "L81fSWm_qSxB",
        "outputId": "815f09e6-4deb-4f38-f948-ec26e573544c"
      },
      "execution_count": 157,
      "outputs": [
        {
          "output_type": "execute_result",
          "data": {
            "text/plain": [
              "'Компания Plastilin оптимизирует и ускоряет получение новых сортов сельскохозяйственных растений совместно с крупнейшими агрохолдингами. Мы делаем это за счет автоматизации анализа генотипов и фенотипов растений, а так же цифровизации селекционного процесса. Своей основной целью мы ставим вывести на рынок революционные сорта, которые будут значительно превосходить существующие по урожайности, питательной ценности (белковости, масличности), устойчивости к изменениям климата и патогенам.  Как наша цифровая платформа позволяет это делать:1) Централизованное хранилище данных: вся информация о селекционных программах в одном месте.2) Анализ данных с помощью машинного обучения: выявление закономерностей и прогнозирование характеристик новых сортов.3) Моделирование селекции: оптимизация селекционных стратегий для достижения желаемых результатов.4) Инструменты управления селекционными программами: планирование скрещиваний, отслеживание потомства, селекция лучших линий. В нашу команду ищем системного аналитика. Основные задачи Системного аналитика   Работа с Командой:- Структурировать задачи, описывать технические задания;- Взаимодействовать с разработчиками для уточнения требований и оценки сложности и сроков разработки;- Составление приемочных критериев и приемка реализованного функционала;- Написание документации Работа с Продуктом:- Составление инструкций для пользователей- Проектировать работу WEB, мобильного приложения и интеграции с внешними системами; Работа с Бизнес-частью (помощь текущему продакт-менеджеру):- Формализовывать требования по каждому направлению разработки;- Выявлять, анализировать и документировать требования от бизнес-заказчиков;- Уточнять требования и обновлять задачи по мере разработки системы, а также поддерживать техническую документацию в актуальном состоянии.- Составлять диаграммы UML или BMPN; Что ожидаем от Аналитика:- Стаж работы в релевантной должности от 1 года;- Знания продуктовой аналитики, IT технологии- Умение декомпозировать задачи в epic -> user story -> task- Понимание процессов разработки, тестирования, внедрения и сопровождения ПО с применением Agile-методологий;- Понимание клиент-серверной архитектуры приложений (frontend, backend, базы данных);знание принципов интеграции с внешними сервисам по API;- Опыт самостоятельного сбора, анализа, проработки и описания функциональных, технических и бизнес-требований; Будет плюсом, если ранее Вы знаете:- основы селекционного процесса растений- основы молекулярной генетики растений Условия: - Гибкий график- Возможность работать как в офисе в Москве, так и удаленно- Социальная защищенность - прозрачные условия трудоустройства; трудоустройство по ТК РФ, фиксированная белая зарплата  '"
            ],
            "application/vnd.google.colaboratory.intrinsic+json": {
              "type": "string"
            }
          },
          "metadata": {},
          "execution_count": 157
        }
      ]
    },
    {
      "cell_type": "code",
      "source": [
        "#Для всех ссылок вакансий"
      ],
      "metadata": {
        "id": "c9rQPCXeqkBj"
      },
      "execution_count": null,
      "outputs": []
    },
    {
      "cell_type": "code",
      "source": [
        "descriptions =[]\n",
        "\n",
        "for link in links:\n",
        "  response = requests.get(link, headers =get_fake_headers())\n",
        "  vacancy_data = bs4.BeautifulSoup(response.text,  features = 'lxml') # Здесь хранится весть текст страницы\n",
        "  descriptions.append(vacancy_data.find(class_ = 'g-user-content').text)"
      ],
      "metadata": {
        "id": "cfSZCZ49qqvi"
      },
      "execution_count": 185,
      "outputs": []
    },
    {
      "cell_type": "code",
      "source": [
        "len(descriptions)"
      ],
      "metadata": {
        "colab": {
          "base_uri": "https://localhost:8080/"
        },
        "id": "C_dZ53sXq5-1",
        "outputId": "73d96820-3c26-43ed-ea1d-bae5d2860e2b"
      },
      "execution_count": 186,
      "outputs": [
        {
          "output_type": "execute_result",
          "data": {
            "text/plain": [
              "20"
            ]
          },
          "metadata": {},
          "execution_count": 186
        }
      ]
    },
    {
      "cell_type": "code",
      "source": [
        "descriptions"
      ],
      "metadata": {
        "colab": {
          "base_uri": "https://localhost:8080/"
        },
        "id": "NFvUgW17xpQV",
        "outputId": "c1dcdc76-71f0-46df-ee8a-0b5c5269db86"
      },
      "execution_count": 187,
      "outputs": [
        {
          "output_type": "execute_result",
          "data": {
            "text/plain": [
              "['Компания Plastilin оптимизирует и ускоряет получение новых сортов сельскохозяйственных растений совместно с крупнейшими агрохолдингами. Мы делаем это за счет автоматизации анализа генотипов и фенотипов растений, а так же цифровизации селекционного процесса. Своей основной целью мы ставим вывести на рынок революционные сорта, которые будут значительно превосходить существующие по урожайности, питательной ценности (белковости, масличности), устойчивости к изменениям климата и патогенам.  Как наша цифровая платформа позволяет это делать:1) Централизованное хранилище данных: вся информация о селекционных программах в одном месте.2) Анализ данных с помощью машинного обучения: выявление закономерностей и прогнозирование характеристик новых сортов.3) Моделирование селекции: оптимизация селекционных стратегий для достижения желаемых результатов.4) Инструменты управления селекционными программами: планирование скрещиваний, отслеживание потомства, селекция лучших линий. В нашу команду ищем системного аналитика. Основные задачи Системного аналитика   Работа с Командой:- Структурировать задачи, описывать технические задания;- Взаимодействовать с разработчиками для уточнения требований и оценки сложности и сроков разработки;- Составление приемочных критериев и приемка реализованного функционала;- Написание документации Работа с Продуктом:- Составление инструкций для пользователей- Проектировать работу WEB, мобильного приложения и интеграции с внешними системами; Работа с Бизнес-частью (помощь текущему продакт-менеджеру):- Формализовывать требования по каждому направлению разработки;- Выявлять, анализировать и документировать требования от бизнес-заказчиков;- Уточнять требования и обновлять задачи по мере разработки системы, а также поддерживать техническую документацию в актуальном состоянии.- Составлять диаграммы UML или BMPN; Что ожидаем от Аналитика:- Стаж работы в релевантной должности от 1 года;- Знания продуктовой аналитики, IT технологии- Умение декомпозировать задачи в epic -> user story -> task- Понимание процессов разработки, тестирования, внедрения и сопровождения ПО с применением Agile-методологий;- Понимание клиент-серверной архитектуры приложений (frontend, backend, базы данных);знание принципов интеграции с внешними сервисам по API;- Опыт самостоятельного сбора, анализа, проработки и описания функциональных, технических и бизнес-требований; Будет плюсом, если ранее Вы знаете:- основы селекционного процесса растений- основы молекулярной генетики растений Условия: - Гибкий график- Возможность работать как в офисе в Москве, так и удаленно- Социальная защищенность - прозрачные условия трудоустройства; трудоустройство по ТК РФ, фиксированная белая зарплата  ',\n",
              " 'ООО «МС-проект», в связи с развитием нового направления, ищет в команду опытного, энергичного специалиста в области проектирования электроники и встраиваемых систем управления для задач автоматизации механизированной нефтедобычи с применением погружных бесштанговых насосных установок. Чем предстоит заниматься: Разработка, включая моделирование, принципиальных схем микропроцессорных устройств управления, средств измерения, блоков питания и устройств защиты. Сборка, регулировка и лабораторные испытания опытных образцов. Редизайн и оптимизация серийной продукции с применением санкционно-безопасной элементной базы. Поиск и самостоятельное устранение ошибок в проектировании. Реверс-инжиниринг образцов продукции конкурентов для оценки свойств и совместного анализа с отделом маркетинга. Участие в разработке тех. процесса производства, включая производственную оснастку, методику и стенды тестирования и калибровки. Оформление конструкторской документации в соответствии с ЕСКД. Чего мы ожидаем от кандидата: Высшее техническое образование, но что более важно – крепкие базовые знания в электротехнике, электронике, электродинамике и термодинамике. (разрабатываемое оборудование эксплуатируется в условиях агрессивной окружающей среды: температура от -50 до +150 гр. С, низкоквалифицированный персонал, высокое напряжение до ед. кВ, вибрация, высокое давление) Уверенное понимание этапов разработки электроники, подготовки к серийному производству (DFM) с послепродажным сопровождением. Знание современных технологий и требований монтажа печатных плат, используемых материалов и их свойств. Опыт сквозного проектирования в связке САПР ECAD + MCAD, предпочтительно Altium Designer и Solidworks. Опыт трассировки печатных плат с учётом ЭМС, а также плат с требованиями по электробезопасности. Опыт моделирования аналоговых схем и процессов на основе SPICE-моделей. Знание современной элементной базы электронных компонентов, включая технологии производства и свойства полупроводников, диэлектриков пассивных компонентов и т.д. Навыки работы с измерительным и паяльным оборудованием. Будет плюсом (но не является ограничением): опыт разработки встраиваемого ПО стендов тестирования и калибровки на базе микроконтроллеров (C, C++, Rust и т.д.), а также опыт создания тестовых программ на стороне ПК (Python и т.д.). Что мы предлагаем:    Работа в профессиональном дружном коллективе в комфортном офисе в пешей доступности от метро Петроградская; Оформление согласно ТК РФ, График работы - пятидневная неделя с 9.00 до 17.00 (время обеда - полчаса - включено в этот график), компенсация обедов с первого рабочего дня, ДМС после успешного прохождения испытательного срока. частичная компенсация фитнеса (после прохождения испытательного срока). ',\n",
              " 'Разработка сервисов на Python. Участие в проектировании сервисов и интеграций совместно с архитекторами. Решение lowcode-задач в рамках системы.Не менее 1 года коммерческого опыта разработки на Python. Опыт работы с Git и GitLab. Знание СУБД PostgreSQL. ',\n",
              " 'Домклик — domclick.ru крупнейшая платформа по недвижимости, через которую проходит более 50% всех ипотечных сделок в стране, обеспечивая полный цикл от...Имеете опыт разработки на Python 3.X. Понимаете механику языка Python и сопутствующих инструментов (pytest, mypy, poetry, flake8). ',\n",
              " 'Поддержка и модернизация существующей кодовой базы. Проектирование и реализация решений на основе требований бизнеса. Участие в архитектуре и оценки задач. Опыт коммерческой разработки на python от 3-х лет. Опыт работы с синхронными и ассинхронными фреймворками. Написания raw SQL и...',\n",
              " 'Ищем к себе в команду Python разработчика Компания РТЛ – отечественный вендор, занимается разработкой и внедрением своих решений в первую очередь в области финансов и рисков, во вторую – решает связанные задачи, такие как внедрение хранилищ данных, аналитика данных и пр. В текущий момент основные задачи находятся в банковской и страховой области и связаны с расчетом финансовых и рисковых показателей, например, прогноз актуарных потоков, финансовая отчетность, сценарный анализ, организация хранилища данных. Планируется расширение в другие области. Мы расширяем команду и ищем python-разработчика. Предполагается гибридный формат работы, но с необходимостью регулярно посещать офис. Чем предстоит заниматься:  • развитием и разработкой расчетных модулей системы; • реализацией интеграционных взаимодействий; • проведением ревью кода, наставничеством, поддержкой код стандарта, командными коммуникациями; • проектированием и согласованием архитектуры приложений и интеграций.   Стек технологий:  • Python3 (FastAPI, Pandas, Numpy); • СУБД PostgreSQL; • RabbitMQ; • Docker / Docker Compose.   Необходимые навыки: • образование – высшее техническое; • от 2 лет коммерческого опыта в релевантном стеке; • уверенное владение библиотеками работы с данными (Pandas/Numpy/Dask); • опыт проектирования сервисов; • опыт работы с асинхронным кодом; • понимание алгоритмов и структур данных.   Будет плюсом: • опыт декомпозиции и оценки задач; • опыт участия в процессах деплоя (понимание принципов CI/CD, подходов обеспечения качества: автотесты, юнит тесты, интеграционное тестирование); • опыт работы с инструментами контейнеризации приложений (Docker, Podman); • уверенное владение SQL. • уверенное использование Linux. О проектах: • финансовой и риск-отчетности (вкл. МСФО 17, МСФО 9); • актуарных расчетов; • построения корпоративного хранилища данных и обмена данными с внешними источниками; • управленческой отчетности (аллокации, планирование, бюджетирование); • сценарного анализа; • управления операционным и модельным риском; • противодействия мошенничеству и ПОД/ФТ. У нас комфортно работать:  Аккредитованная IT компания Офис в 2-х минутах ходьбы от станции метро Таганская Гибкий старт рабочего дня, возможность частично работать удаленно Белая з/п (оклад по итогам собеседования в соответствии с Вашим опытом), оформление согласно Трудовому законодательству Яркие корпоративные мероприятия  Коллеги, мы считаем, что для разработчика одно из важных качеств - это внимание к деталям. Просим в сопроводительном письме написать название нашей компании как подтверждение того, что вы ознакомились с вакансией.',\n",
              " 'NEXTBI - продуктовая IT компания с собственной разработкой. Продукт: Платформа \"НЕКСТБИ Аналитика\" предназначена для создания комплексных решений, которые могут быть адаптированы под нестандартные требования заказчика. Нашими клиентами являются крупные B2B компании, компании с государственным участием и государственные организации. Наши технологии: Наша платформа построена по модульному принципу на микросервисной архитектуре, позволяющей достигать высоких показателей отказоустойчивости и быстро добавлять новые возможности. В качестве базового ПО мы используем технологии, в основе которых проверенные современные open source решения, применяемые для построения облачной инфраструктуры, которые используются лидерами IT отрасли последние несколько лет. При этом сервисы, реализующие системную и бизнес-логику, а также пользовательские интерфейсы, отображаемые в браузере - полностью своя разработка. Процесс: Minimal Agile, дейли. Инструментарий: Jira - для задач, Confluenсe - для ведения документации и базы знаний, Discord - для коммуникаций Функционал:  Взаимодействовать с командой по вопросам улучшения кода; Проводить рефакторинг существующей кодовой базы; Принимать непосредственное участие в развитии проекта и его архитектуры;   Проектирование архитектуры Участие в обсуждении и формировании требований Декомпозиция задач Рефакторинг и оптимизация кода Сode review  Требования:  Опыт коммерческой разработки на Python не менее 3-х лет Опыт работы с микросервисной архитектурой; Опыт работы с Kafka; Опыт работы с Kubernetes, Docker; Желательно опыт работы с H2O или высокая мотивированность поработать с данным фреймворком  Мы предлагаем:  Оформление в соответствии с ТК РФ (все выплаты официальные). Удобный график - гибкое начало и окончание рабочего дня.  Возможность работать в гибридном формате или полностью удаленно (оформляем по ТК РФ и платим зарплату на рублевые счета).  Расширенная программа ДМС со стоматологией, онкозащитой, программой восстановления после Covid, страховкой для путешественников и льготным страхованием близких. Корпоративный ноутбук. Для тех, кто в Москве - современный комфортный офис - в пяти минутах ходьбы от ст.м. Белорусская (ул. Лесная, д. 9, БЦ Белые сады) Компания является аккредитованной ИТ-компанией: привилегии и льготы для сотрудников.   ',\n",
              " '➡️ Требуется Python разработчик на fullstack (+ React) уровня senior. Работа в офисе (без удаленки). Найм в связи с расширением. ➡️ Откликнись сейчас на эту вакансию и тебя пригласят на собеседование! ✍️ Много обучения и работы.♨️ Продвижение до tech/team lead и директора направления. ➡️ Полностью официальная зарплата (250 000 ₽) и трудоустройство.❕Оплата вовремя! По законодательству.⛱️ Полная оплата отпускных, больничного и т.д.✔️Уровень дохода на испытательном сроке (2 мес.) не снижается. ⌚ График работы: 5/2 с 9-18 или 10-19 (на выбор).Сейчас в команде 5 человек. Team lead, 3 разработчика и тестировщик.   ✅ Что делать:  Разработка и поддержка сайта компании. Интеграция с внешними сервисами.  ✅ Требования:  Отличные знания Python, PostgreSQL и React.  ✅ Условия и Преимущества:  Заработок от 250 000 ₽ на карту официально (выплаты дважды в месяц);➡️ Откликнись сейчас на эту вакансию и тебя пригласят на собеседование! Оформление согласно ТК РФ; График работы: 5/2 c 9-18 или 10-19 (на выбор); ЦАО (м. Белорусская), 5 минут от метро, офис на 70 человек. ',\n",
              " 'КОМПЛАИНС СОФТСистемный интегратор и центр экспертизы в сфере кибербезопасности и защиты информации. Мы ищем тимлида для группы разработчиков, в связи с расширением команды и развитием продукта по поиску киберугроз CSE360. От кандидата ожидается самостоятельность и умение проактивно работать в динамичной среде - управлять своим временем и временем команды, брать ответственность за результат и прозрачно показывать статус задач руководству. Задачи:  Организация, координация и контроль работы группы программистов Python; Развитие и укрепление навыков и компетенций членов команды, проведение обучающих мероприятий и оценка производительности; Проработка и реализация архитектурных решений с учетом потоковой и событийной модели в разработке основанной на микросервисах. Анализ требований бизнеса, проработка и предложение оптимальных технических решений. Проведение code review, контроль качества кода. Взаимодействие с другими командами для создания интеграций и совместного решения задач  Требования:  Опыт управления продуктовой разработкой; Знание принципов ООП, паттернов проектирования и умение их применять; Опыт программирования на Python; Опыт работы в команде, умение разбираться в чужом коде, использование систем контроля версий (Git); Успешный опыт проектирования архитектурных решений высоконагруженных систем; Опыт разработки клиент-серверных приложений с поддержкой СУБД; Опыт работы с брокерами сообщений (NATS, Apache Kafka); Опыт практический опыт работы с k8s, docker;  Желательно:  Опыт программирования на Go; Опыт анализа и оптимизации производительности программ на Python, Опыт работы в области кибербезопасности Опыт работы с SQL базами данными (PostgreSQL); Опыт работы с NoSQL базами данными: Redis, Clickhouse и Elasticsearch; Опыт работы с брокерами сообщений (NATS, Apache Kafka). Опыт системного администрирования информационных систем; Знание принципов работы операционных систем; Системное программирование в Windows/Linux; Опыт работы с системами мониторинга метрик Prometheu.  Условия:  Официальное оформление в аккредитованную ИТ-компанию; Внутреннее и внешнее обучение; Возможности карьерного роста; Удаленный формат работы; ДМС после испытательного срока;     ',\n",
              " 'Мы – аккредитованная IT-компания ОктопусТех, развиваемся в таких областях, как разработка, машинное обучение, компьютерное зрение, маркетинг, коммуникации и автоматизация технологических процессов. Мы разрабатываем программное обеспечение и оказываем IT-услуги предприятиям, организациям и стартапам. Среди наших клиентов – VK, Яндекс, Ростелеком, Johnson & Johnson, ИРИ, Платформы «Россия-страна возможностей» и «Лидеры России» Наша команда профессионалов постоянно растет, поэтому мы находимся в активном поиске Middle Backend developer. Что будет в твоем распоряжении?   Разработка API для SPA; Интеграция со сторонними сервисами; Разделение монолитного приложения (Django) на микросервисы.  Стек:  Python; Django/FastAPI/Flask; PostgreSQL/MySQL; Celery.  Желателен опыт с :  Rabbitmq; Redis; Docker.  Нам важно, чтобы:  Твой общий опыт программирования был от 3-х лет (коммерческая разработка от 2-х лет); Понимал, как работает ООП; Знал REST API, умел спроектировать и написать сервис с нуля; Умел работать с очередями задач; Имел опыт с декомпозированием крупных задач и знал, как давать обратную связь по проблемам; Знал, что такое SOLID, DRY, KISS, ведь для вас не просто набор букв.    Что мы предлагаем? Хорошая зарплата  размер зарплаты обсуждаем отдельно с каждым кандидатом  Развитие в профессии  долгосрочные проекты от российских заказчиков возможность выбирать или менять проект и пробовать себя в новых направлениях  Комфорт и свобода  полная удаленка гибкий рабочий график  Ждем твоего отклика! Ты также можешь написать нам напрямую.      ',\n",
              " '➡️ Требуется Python разработчик уровня middle и выше. Работа в офисе (без удаленки). Найм в связи с расширением. ➡️ Откликнись сейчас на эту вакансию и тебя пригласят на собеседование! ✍️ Много обучения и работы.♨️ Продвижение до tech/team lead и директора направления. ➡️ Полностью официальная зарплата (от 120 000 ₽) и трудоустройство.❕Оплата вовремя! По законодательству.⛱️ Полная оплата отпускных, больничного и т.д.✔️Уровень дохода на испытательном сроке (2 мес.) не снижается. ⌚ График работы: 5/2 с 9-18 или 10-19 (на выбор).Сейчас в команде 5 человек. Team lead, 3 разработчика и тестировщик.   ✅ Что делать:  Разработка и поддержка сайта компании. Интеграция с внешними сервисами.  ✅ Требования:  Хорошие знания Python и PostgreSQL.  ✅ Условия и Преимущества:  Заработок от 120 000 ₽ на карту официально (выплаты дважды в месяц);➡️ Откликнись сейчас на эту вакансию и тебя пригласят на собеседование! Оформление согласно ТК РФ; График работы: 5/2 c 9-18 или 10-19 (на выбор); ЦАО (м. Белорусская), 5 минут от метро, офис на 70 человек. ',\n",
              " 'Привет!  Мы - продуктовая fintech компания, разработавшая высокотехнологичную платежную инфраструктуру для бизнеса в формате криптовалютного on-ramp сервиса. Если у тебя есть понимание, о чем мы - это отлично. Если нет, но тебе было бы интересно погрузиться и работать в fintech индустрии, you’re welcome! Чем предстоит заниматься:  - Разрабатывать новый, а также дорабатывать существующий функционал продукта; - Разрабатывать и подключать API внутренних и внешних сервисов; - Писать читаемый и понятный код; - Другие задачи, связанные с полным циклом разработки и поддержкой продукта.Наш стек: Python 3.11, FastAPI, PostgreSQL, Redis, RabbitMQ, Kafka, MemoryDB Мы не требуем, а ожидаем:   3+ лет опыта backend разработки в проде;   Отличное знание и понимание FastApi;   Опыт работы с высоконагруженными распределенными системами;   Знание инструментов и подходов CI / CD;   Опыт построения архитектуры cloud native приложений.   Будет плюсом:  Опыт с похожими задачами в fintech проектах.  Почему у нас классно?   Удаленная работа из любой точки мира;   Оплата в USDT;   Возможности профессионального роста;   Гибкое начало рабочего дня;   Сильная команда, мы работаем только с лучшими специалистами в своих областях.   Если ты готов реализовывать свой опыт в интересном проекте, то мы будем рады видеть тебя в нашей команде!Напиши в сопроводительном: Привет, коллега - и мы отреагируем быстрее :)  ',\n",
              " 'Реализовывать высоконагруженные и производительные сервисы на Python. Участвовать в проектировании архитектуры, выработке решений по отказоустойчивости и производительности. Интегрироваться с партнерами...Имеете опыт разработки на Python 3.X. Понимаете механику языка Python и сопутствующих инструментов (pytest, mypy, poetry, flake8). ',\n",
              " 'Обязанности:   разработка и поддержка различного функционала для веб-приложений (frontend, backend, БД);   разработка API взаимодействия веб-приложений с backend-системами;   развертывание и администрирование веб-служб, необходимых для работы веб-приложений (в т.ч. под ОС на базе ядра Linux);   планирование работы группы разработчиков 2+ человек;   участие в разработке документации на ПО;становка, настройка ОС Linux на raspberry pi;   прошивка, настройка микротиков, написание и поддержка скриптов для планировщика   Требования:  высшее техническое образование (IT, физмат, автоматизированные системы обработки информации и управления, информационные системы и технологии); ожидаем релевантный опыт работы от 5 лет; опыт работы с ООП, знание классов, объектов, Singleton, MVC, ORM, callback-функции и уверенно применять данные технологии; необходимо уверенно знать технологии: html, css, json, ajax, js, jQuery, node.js, php, python, MySQL; понимание принципов работы веб-приложений, протокола Modbas, Websocket, протоколов HTTP(S); умение оптимизировать таблицы, выстраивать грамотную архитектуру, писать функционал любого уровня сложности, составлять запросы к бд любого уровня сложности; опыт работы с ОС Linux, подключение по SSH; умение написать скрипт для автозагрузки в линукс, настраивать Apache2; будет преимуществом: опыт работы с микротиками, опыт работы с cms-системами подобные: 1C-Битрикс, modx, умение написать свой компонент, опыт работы с Git.  Условия:  переменное (гибкое) рабочее время: начало с 08-30 до 10-00, окончание с 17-00 до 18-30 с понедельника по пятницу, перерыв на обед 30 минут в любое время в течении дня; выходные дни: суббота, воскресенье оформление в соответствии ТК РФ, предоставление льгот, гарантий и компенсаций; белая заработная плата 2 раза в месяц без задержек, дополнительное материальное стимулирование; предоставляются возможности для профессионального роста и увеличения дохода; новый светлый чистый офис и новое оборудование; удобная транспортная доступность (около 10 минут пешком от ст.м. Нарвская); работа в финансово стабильной компании, комфортное рабочее место, дружный коллектив, лояльное руководство компания входит в реестр аккредитованных организаций, осуществляющих деятельность в области информационных технологий от 26.12.2022 № АО-20221209-10926516249-3 Минцифры России, что позволяет предоставлять отсрочку от прохождения воинской службы на 1 год, а также получать льготные условия по ипотеке от 0,1% ',\n",
              " 'Команда Evrone занимается продуктовой разработкой стартапов и помогает в цифровой трансформации бизнеса в России, США и Европе. Думаю, что вы о нас слышали от Григория Петрова (Evrone Devrel) Задачи: Влиться в одну из существующих команд разработки и участвовать в разнообразных проектах компании. Про наши последние проекты можно почитать тут: evrone.ru/technologies/python Ищем разработчиков Middle +/ Senior уровня. Заработная плата зависит от уровня и определяется после прохождения технического собеседования. Стек: Python 3.12, Django, Django REST framework, Celery, PostgreSQL, RabbitMQ, Docker, Kubernetes Какой опыт важен:   Python. От 3-х лет на backend-е;   Django. Важно, чтобы это был ваш основной фреймворк;  Best practice (SOLID, ООП, Тестирование, etc);  NoSQL. Например, с Redis;  Брокеры сообщений. Любой из популярных: Kafka, RabbitMQ, etc  Почему Evrone: Мы занимаемся технически сложными, высоконагруженными, наукоёмкими проектами, проектами с большой бизнес логикой или большой серверной инфраструктурой. Нам доверяют: аналитику, проектирование интерфейсов и дизайн, разработку, инфраструктуру и эксплуатацию. Мы становимся технической командой проекта целиком или консультируем и расширяем возможности существующих команд наших клиентов. Кроме того, Evrone помогает развиваться сообществу разработчиков. Мы делаем самую большую в России конференцию по Ruby — RubyRussia, проводим технические митапы, делаем свой новостной дайджест, а также спонсируем и помогаем в проведении конференций по Go, Python, React/Vue и функциональным языкам. Наши инженеры выступают на ведущих конференциях России и Европы и вносят вклад в Open Source проекты, мы берем интервью у лидеров комьюнити и пишем статьи на самые горячие темы индустрии. В этом году мы ставили стенд и выступали на конференциях Highload и TeamLeadConf. Вся команда работает удаленно с 2008 года. Мы знаем как организовать распределенную разработку комфортно и эффективно. Есть офисы для работы и встреч в Москве и Воронеже, а также офисы продаж в Сан-Франциско и Берлине. Что предлагаем:  Удаленную фултайм работу. Нам не важно, из какой точки мира вы работаете, важен только результат. Но если вы хотите ходить в офис, они есть в Москве и Воронеже; Мягкий график. Достаточно синхронизировать тайм-зоны и иметь пересечения рабочего времени с командой;  Качественный онбординг и hr-менеджмент (1:1, Grow Review). По желанию меняем проекты, не даем стагнировать. При формировании команды проекта учитываем профессиональные или личные интересы разработчиков;   Работу в разновозрастном, разнополом и потрясающе дружном и профессиональном коллективе;   Хорошо организованный воркфлоу, отсутствие бюрократии. Работа на доверии.   Одна из ценностей Evrone – работа с удовольствием. Для этого мы придумали Evrone Benefits. Каждому из нас выделяется годовой бюджет, автоматически пополняемый каждый новый год вашей работы в Evrone. Его можно потратить на полезные категории трат, направленные на:   ДМС и здоровье;   Спорт и абонемент для фитнеса или инвентарь для спорта;   Курсы иностранного языка;   Техника для работы и улучшение рабочего места;   Обучение: курсы, тренинги, мастер-классы, семинары, книги и конференции.   Бонусы и премии:   Премии за локальные успехи и отличную работу в целом;   Автоматическая индексация зарплаты без необходимости кого-то об этом просить, а также повышение зарплаты по мере роста компетенций;   Премии за привлечение новых сотрудников и новых клиентов;   Дополнительная премия за выступления на конференциях и митапах;   У вас есть возможность принять участие в проведении технических интервью специалистов, которые могут стать вашими коллегами. Проведение интервью оплачивается.   Обучение и рост компетенций:   Проводим митапы по Python. Вы можете быть как и слушателем, так и спикером;   У нас есть культура менторства. В повседневных задачах и планировании карьеры будет помогать наставник;   Развивать профессиональный уровень можно с помощью системы ассессмента Evrone Challenge;   Есть внутренняя библиотека с электронными книгами и записанными курсами;   Работаем и дружим с западными заказчиками, есть возможность практиковать свой английский.   Возможность стать докладчиком или автором:   Если вы хотите выступить на оффлайн конференции, мы поможем вам подготовить контент для доклада и сделаем крутые слайды. DevRel Evrone (Григорий Петров) поможет подготовиться к выступлению на конференции, окажем поддержку на самой конференции и подготовим материалы с вашим докладом. Также Evrone оплатит вам все расходы на подготовку, поездку и участие в конференции;   Если вы хотите выступить на онлайн конференции, помимо помощи по подготовке доклада и подбору конференции, мы организуем вам студийную съемку или трансляцию вашего доклада;   У нас есть блоги на всех популярных платформах России и мира. Наши редакторы и профессиональные авторы еженедельно выпускают новые материалы;   Если вы написали статью, мы нарисуем для нее иллюстрации и поможем вам ее оформить и опубликовать. Если у вас есть только идея - редакторы помогут сформулировать мысли, оформить пост самостоятельно и правильно опубликовать для максимального охвата. Конечно, Evrone оплатит часы и любые затраты, потраченные на подготовку материала;   Возможность прокачаться в Open Source:   Если у вас есть популярные open source проекты – мы поможем с их продвижением и окажем поддержку в развитии;   Если вы контрибьютите в популярные проекты с открытым исходным кодом, мы оплатим часы, которые вы на это потратили.   Если вы ничего этого не делаете, но очень хочется начать – в Evrone есть менторы, которые помогут вам сделать первые шаги: подберут задачки для старта, помогут решить их и правильно оформить pr.   Отдых и развиртуализация: Мы считаем обязательным собираться вместе несколько раз в году. В Evrone есть несколько событий в году, которые собирают вместе весь наш коллектив. Поэтому, где бы вы ни находились, мы обязательно увидимся лично (компания оплатит вам дорогу и все расходы на корпоратив).  ',\n",
              " 'О компании: Юралс Про - дочернее IT подразделение нефтегазового холдинга Юралс Кэпитал, лидера в транспорте и дорожном строительстве ТЭК России. Все очень просто. Мы ищем коллегу, который сможет вместе с нами разрабатывать лучшее решение на рынке. Можешь оставить отклик, мы свяжемся с тобой и расскажем почему есть смысл идти к нам. Обсудим условия работы. Ответим на все интересующие тебя вопросы. Твоя основная задача развивать внутренний продукт, который автоматизирует бизнес-процессы компании. Работы будет много, но она будет интересной.   Обязанности:  Разработка продуктов экосистемы; Создание и улучшение ML-моделей, подготовка данных для машинного обучения; Реализация и поддержка продуктов.    Требования:   Высшее техническое образование;   Опыт работы в DS, опыт написания коммерческого кода на Python;   Знание и опыт использования популярных ML-алгоритмов;    Знание SQL (PostgreSQL); Опыт работы с контейнеризацией (Docker\\\\Kubernetes); Опыт работы с маршрутизаторами сообщений (RabbitMQ, Kafka).    Условия:  Официальное трудоустройство; Белая заработная плата; Нормированный рабочий день; Карьерный рост; Обучение за счёт компании; Полная занятость, полный день; График работы: 5/2. ',\n",
              " 'Домклик — domclick.ru крупнейшая платформа по недвижимости, через которую проходит более 50% всех ипотечных сделок в стране, обеспечивая полный цикл от...Имеете опыт разработки на Python 3.X. Понимаете механику языка Python и сопутствующих инструментов (pytest, mypy, poetry, flake8). ',\n",
              " 'Международный iGaming бренд в поисках Junior/Middle Python-разработчика Обязанности:   Разработка и поддержка парсеров;   Добыча и структурирование данных из различных источников (Twitter API, Telegram, и др.) для поддержки и развития сервисов на базе AI;   Взаимодействие с разработчиками и аналитиками для оптимизации процессов сбора данных.   Требования:   Опыт работы с Python и соответствующими библиотеками (requests, beautifulsoup4, selenium, os, sys, json, copy, datetime, operator, shutil, inspect, pdfkit и т.д.);   Опыт работы с системами контроля версий (например, Git);   Навык работы с Ubuntu и Docker;   Опыт работы с технической документацией и требованиями;   Проведение code-review (умение разбираться в чужом коде);   Умение писать понятный код и архитектуру.   Будет плюсом:   Опыт работы с системами обработки больших данных;   Опыт работы с реляционными базами данных.   Условия:  Комфортный офис в Москва Сити; График: 5/2 с гибким началом дня; Лояльное руководство и минимум формализма и бюрократии; Необходимое оборудование и инструменты для эффективной работы; Активная и интересная корпоративная жизнь. ',\n",
              " 'OpenYard –российская компания-вендор серверного оборудования высокого класса, помогающего нашим заказчикам в достижении технологической независимости. В 2021 году мы открыли Центр разработок в Москве, а в 2023 году запустили локальное производство серверного оборудования — точки притяжения идей и технологий, которые позволят создавать оборудование для дата-центров по всему миру. Это место для инноваций и экспериментов, где мы будем разрабатывать, тестировать и производить серверы для хранения информации, машинного обучения, работы с большими данными и решения многих других задач.Какие задачи вас ждут  Backend задачи по разработке новых и доработке существующих сервисов комплексной системы учета и тестирования серверов при производстве Интеграция сервисов и решений в имеющуюся инфраструктуру комплекса ПО  Мы ждем, что вы  Имеете опыт разработки на Python (3.8 и выше) от 2-х лет   Имеете опыт разработки на фрейморке DJANGO от 1 года Имеете опыт работы с PostgresSQL, NoSQL Владеете REST API, Docker, Docker Compose, Git Имеете опыт разработки в окружении Linux   Разрабатывали unittest  Будет плюсом, если вы  Владеете командной строкой Linux:  Имеете понятие о lshw, lspci, dmidecode       Умеете собирать образ initram Linux из исходников Владеете stress-ng, fio и пр.     Знаете устройство компьютера Понимаете принципы работы интерфейсов I2C, UART, SPI, PCIe Самостоятельно планировали и реализовывали архитектуру приложений или их части: разрабатывали модели, взаимодействия, принципы хранения и обработки информации и т. д. Строили веб-интерфейсы  Что мы предлагаем  Интересные задачи и работу в команде профессионалов, с которыми можно обмениваться опытом и повышать квалификацию Офис в БЦ «Аврора» на ст. м. «Павелецкая», возможность частично удалённой работы Корпоративную программу ДМС Доплату больничного до 100% от оклада Страхование от несчастных случаев Корпоративные скидки от партнёров ',\n",
              " 'ГК МКСКОМ — IT-интегратор с крупными федеральными клиентами. Мы занимаемся разработкой и внедрением различных EPM/ CPM-решений, созданием продуктов для развития бизнеса. В настоящее время мы ищем Python-разработчика уровня Junior, который будет занимается разработкой backend-микросервисов на Python для наших Клиентов в рамках существующих проектов, а также сервисов и решений для бизнеса, разрабатываемых МКСКОМ как самостоятельные продукты для рынка. Чем предстоит заниматься:  Развивать и дорабатывать существующие REST-API сервисы (полу-монолиты) и микросервисы Разрабатывать новые микросервисы, участвовать в проектировании их архитектуры, помогать в реализации Создавать и улучшать тестовое покрытие на проектах Участвовать в поиске решений по оптимизации производительности Делать доработки, находить и исправлять баги Развивать существующую инфраструктуру и предлагать идеи по улчшению рабочих процессов, пример кейса – внедрить профайлер в CICD Создавать учётные подсистемы, писать SQL запросы вручную/CRUD, пробовать оптимизировать написанное  Наш будущий коллега:  Знает основы информатики, модель OSI, что такое булева логика, байт, бит, двоичная система счисления и почему в компьютерах используется именно она Понимает что такое компьютер внутри. Знает базово как ОС (операционная система) взаимодействует с железом и что же она такое, а так же - как python с ней взаимодействует. Понимает базово в чём разница между Windows и Linux или хотя бы думал об этом и о самом главном – почему серверное ПО создаются под UNIX-ядро Понимает базово что такое интернет, как сайты/приложения попадают в интернет. Имеет представление о том, что такое браузер внутри. Слышал или иногда думал про взаимодействие между компьютерами, какую роль выполняет маршрутизатор, что такое IP-адреса, DNS, firewall Понимает разницу между http и https Знает язык Python уверенно: основы, синтаксис, функции, декораторы(замыкания), ООП, асинхронную модель, процессы, потоки. Слышал про GIL. Понимает почему python медленнее компилируемых языков Пробовал какой-либо REST-API framework (FastAPI, Flask ). Думал, в чём суть REST-API и почему оно называется так Понимает как работать с git Понимает где он пишет код, что такое IDE, как работать с отладчиком, как настраивать python проекты, как запускать чужие проекты Пробовал писать SQL-запросы Слышал про докер и хочет научиться им пользоваться, если не умеет Умеет планировать свою работу, сроки и загрузку в рамках адекватных дедлайнов Готов обучаться  Будет плюсом:  Релевантный опыт в любом одном из: SQL-запросы руками, пулы потоков/процессов, создание полноценного REST-API, публикация в интернет, документация в виде swagger/openapi Понимание SQL-запросов. Минусы использования ORM на проектах Хорошее понимание REST-API, умение проектировать его и правильно взаимодействовать с браузером. Понимание CORS Умение писать unit-тесты Умение писать benchmark-тесты Умение профилировать код Умение работать с докером Умение работать с СУБД Postgres/clickhouse/другие Умение работать с брокерами сообщений kafka/rabbit Понимание микросервисной архитектуры Понимание авторизационных механизмов, что есть JWT-токен. OAuth2.0 Понимание, что есть proxy-сервис, api-gateway, и как с этим работать Понимание принципов CI/CD Какие-либо знания про кубернетис Умение использовать ELK, имеется ввиду находить в Kibana логи Опыт работы с какими-либо компонентами, которые мы используем в нашем основном стеке: Postgres, ClickHouse, Kafka, Rabbit, Nginx, Kong, KeyCloack, Minio, FastApi, Docker, Docker-Compose.  От нас:  Оклад в зависимости от опыта, ориентированность на пожелания успешного кандидата Оформление в соответствии со всеми требованиями ТК РФ Возможность работать удаленно или в офисе (комфортные офисы в центре Москвы, Тамбова, Новосибирска, Тулы, Ижевска) Персональный ноутбук и все необходимое ПО Поддержка образовательных инициатив, внутреннее обучение для сотрудников с первого дня работы Полис ДМС Family Поддержка профессионального развития  ВАЖНО: Мы официальный участник программы развития IT-рынка в России от Минцифры, наши сотрудники получают все преференции программы:  Освобождение/ бронь от воинского призыва, Льготная ипотека Гранты на IT-разработки ']"
            ]
          },
          "metadata": {},
          "execution_count": 187
        }
      ]
    },
    {
      "cell_type": "code",
      "source": [
        "#нужно выбрать те вакансии, у которых в описании есть ключевые слова \"Django\" и \"Flask\"  и сохранить в json файл\n",
        "search = [\"Django\", \"Flask\"]\n",
        "data = [names, city_list, descriptions]\n",
        "filt_data =[]\n",
        "parsed_data =[]\n",
        "\n",
        "for i in range(len(names)):\n",
        "  for s in search:\n",
        "    if s  in data[2][i]:\n",
        "      filt_data.append([names[i], city_list[i], descriptions[i]])\n",
        "      parsed_data.append({\n",
        "    'names': names[i],\n",
        "    'city_list': city_list[i],\n",
        "    'descriptions': descriptions[i],\n",
        "   })\n",
        "\n",
        "\n",
        "\n"
      ],
      "metadata": {
        "id": "07xoytbwtPc5"
      },
      "execution_count": 207,
      "outputs": []
    },
    {
      "cell_type": "code",
      "source": [
        "parsed_data"
      ],
      "metadata": {
        "colab": {
          "base_uri": "https://localhost:8080/"
        },
        "id": "s-c6iKPSzgTL",
        "outputId": "1cad1ec2-bb1b-4e5c-f49d-82d9a2e50c7a"
      },
      "execution_count": 208,
      "outputs": [
        {
          "output_type": "execute_result",
          "data": {
            "text/plain": [
              "[{'names': 'Python Backend developer',\n",
              "  'city_list': 'Москва',\n",
              "  'descriptions': 'Мы – аккредитованная IT-компания ОктопусТех, развиваемся в таких областях, как разработка, машинное обучение, компьютерное зрение, маркетинг, коммуникации и автоматизация технологических процессов. Мы разрабатываем программное обеспечение и оказываем IT-услуги предприятиям, организациям и стартапам. Среди наших клиентов – VK, Яндекс, Ростелеком, Johnson & Johnson, ИРИ, Платформы «Россия-страна возможностей» и «Лидеры России» Наша команда профессионалов постоянно растет, поэтому мы находимся в активном поиске Middle Backend developer. Что будет в твоем распоряжении?   Разработка API для SPA; Интеграция со сторонними сервисами; Разделение монолитного приложения (Django) на микросервисы.  Стек:  Python; Django/FastAPI/Flask; PostgreSQL/MySQL; Celery.  Желателен опыт с :  Rabbitmq; Redis; Docker.  Нам важно, чтобы:  Твой общий опыт программирования был от 3-х лет (коммерческая разработка от 2-х лет); Понимал, как работает ООП; Знал REST API, умел спроектировать и написать сервис с нуля; Умел работать с очередями задач; Имел опыт с декомпозированием крупных задач и знал, как давать обратную связь по проблемам; Знал, что такое SOLID, DRY, KISS, ведь для вас не просто набор букв.    Что мы предлагаем? Хорошая зарплата  размер зарплаты обсуждаем отдельно с каждым кандидатом  Развитие в профессии  долгосрочные проекты от российских заказчиков возможность выбирать или менять проект и пробовать себя в новых направлениях  Комфорт и свобода  полная удаленка гибкий рабочий график  Ждем твоего отклика! Ты также можешь написать нам напрямую.      '},\n",
              " {'names': 'Python Backend developer',\n",
              "  'city_list': 'Москва',\n",
              "  'descriptions': 'Мы – аккредитованная IT-компания ОктопусТех, развиваемся в таких областях, как разработка, машинное обучение, компьютерное зрение, маркетинг, коммуникации и автоматизация технологических процессов. Мы разрабатываем программное обеспечение и оказываем IT-услуги предприятиям, организациям и стартапам. Среди наших клиентов – VK, Яндекс, Ростелеком, Johnson & Johnson, ИРИ, Платформы «Россия-страна возможностей» и «Лидеры России» Наша команда профессионалов постоянно растет, поэтому мы находимся в активном поиске Middle Backend developer. Что будет в твоем распоряжении?   Разработка API для SPA; Интеграция со сторонними сервисами; Разделение монолитного приложения (Django) на микросервисы.  Стек:  Python; Django/FastAPI/Flask; PostgreSQL/MySQL; Celery.  Желателен опыт с :  Rabbitmq; Redis; Docker.  Нам важно, чтобы:  Твой общий опыт программирования был от 3-х лет (коммерческая разработка от 2-х лет); Понимал, как работает ООП; Знал REST API, умел спроектировать и написать сервис с нуля; Умел работать с очередями задач; Имел опыт с декомпозированием крупных задач и знал, как давать обратную связь по проблемам; Знал, что такое SOLID, DRY, KISS, ведь для вас не просто набор букв.    Что мы предлагаем? Хорошая зарплата  размер зарплаты обсуждаем отдельно с каждым кандидатом  Развитие в профессии  долгосрочные проекты от российских заказчиков возможность выбирать или менять проект и пробовать себя в новых направлениях  Комфорт и свобода  полная удаленка гибкий рабочий график  Ждем твоего отклика! Ты также можешь написать нам напрямую.      '},\n",
              " {'names': 'Backend Python-developer (Django)',\n",
              "  'city_list': 'Москва',\n",
              "  'descriptions': 'Команда Evrone занимается продуктовой разработкой стартапов и помогает в цифровой трансформации бизнеса в России, США и Европе. Думаю, что вы о нас слышали от Григория Петрова (Evrone Devrel) Задачи: Влиться в одну из существующих команд разработки и участвовать в разнообразных проектах компании. Про наши последние проекты можно почитать тут: evrone.ru/technologies/python Ищем разработчиков Middle +/ Senior уровня. Заработная плата зависит от уровня и определяется после прохождения технического собеседования. Стек: Python 3.12, Django, Django REST framework, Celery, PostgreSQL, RabbitMQ, Docker, Kubernetes Какой опыт важен:   Python. От 3-х лет на backend-е;   Django. Важно, чтобы это был ваш основной фреймворк;  Best practice (SOLID, ООП, Тестирование, etc);  NoSQL. Например, с Redis;  Брокеры сообщений. Любой из популярных: Kafka, RabbitMQ, etc  Почему Evrone: Мы занимаемся технически сложными, высоконагруженными, наукоёмкими проектами, проектами с большой бизнес логикой или большой серверной инфраструктурой. Нам доверяют: аналитику, проектирование интерфейсов и дизайн, разработку, инфраструктуру и эксплуатацию. Мы становимся технической командой проекта целиком или консультируем и расширяем возможности существующих команд наших клиентов. Кроме того, Evrone помогает развиваться сообществу разработчиков. Мы делаем самую большую в России конференцию по Ruby — RubyRussia, проводим технические митапы, делаем свой новостной дайджест, а также спонсируем и помогаем в проведении конференций по Go, Python, React/Vue и функциональным языкам. Наши инженеры выступают на ведущих конференциях России и Европы и вносят вклад в Open Source проекты, мы берем интервью у лидеров комьюнити и пишем статьи на самые горячие темы индустрии. В этом году мы ставили стенд и выступали на конференциях Highload и TeamLeadConf. Вся команда работает удаленно с 2008 года. Мы знаем как организовать распределенную разработку комфортно и эффективно. Есть офисы для работы и встреч в Москве и Воронеже, а также офисы продаж в Сан-Франциско и Берлине. Что предлагаем:  Удаленную фултайм работу. Нам не важно, из какой точки мира вы работаете, важен только результат. Но если вы хотите ходить в офис, они есть в Москве и Воронеже; Мягкий график. Достаточно синхронизировать тайм-зоны и иметь пересечения рабочего времени с командой;  Качественный онбординг и hr-менеджмент (1:1, Grow Review). По желанию меняем проекты, не даем стагнировать. При формировании команды проекта учитываем профессиональные или личные интересы разработчиков;   Работу в разновозрастном, разнополом и потрясающе дружном и профессиональном коллективе;   Хорошо организованный воркфлоу, отсутствие бюрократии. Работа на доверии.   Одна из ценностей Evrone – работа с удовольствием. Для этого мы придумали Evrone Benefits. Каждому из нас выделяется годовой бюджет, автоматически пополняемый каждый новый год вашей работы в Evrone. Его можно потратить на полезные категории трат, направленные на:   ДМС и здоровье;   Спорт и абонемент для фитнеса или инвентарь для спорта;   Курсы иностранного языка;   Техника для работы и улучшение рабочего места;   Обучение: курсы, тренинги, мастер-классы, семинары, книги и конференции.   Бонусы и премии:   Премии за локальные успехи и отличную работу в целом;   Автоматическая индексация зарплаты без необходимости кого-то об этом просить, а также повышение зарплаты по мере роста компетенций;   Премии за привлечение новых сотрудников и новых клиентов;   Дополнительная премия за выступления на конференциях и митапах;   У вас есть возможность принять участие в проведении технических интервью специалистов, которые могут стать вашими коллегами. Проведение интервью оплачивается.   Обучение и рост компетенций:   Проводим митапы по Python. Вы можете быть как и слушателем, так и спикером;   У нас есть культура менторства. В повседневных задачах и планировании карьеры будет помогать наставник;   Развивать профессиональный уровень можно с помощью системы ассессмента Evrone Challenge;   Есть внутренняя библиотека с электронными книгами и записанными курсами;   Работаем и дружим с западными заказчиками, есть возможность практиковать свой английский.   Возможность стать докладчиком или автором:   Если вы хотите выступить на оффлайн конференции, мы поможем вам подготовить контент для доклада и сделаем крутые слайды. DevRel Evrone (Григорий Петров) поможет подготовиться к выступлению на конференции, окажем поддержку на самой конференции и подготовим материалы с вашим докладом. Также Evrone оплатит вам все расходы на подготовку, поездку и участие в конференции;   Если вы хотите выступить на онлайн конференции, помимо помощи по подготовке доклада и подбору конференции, мы организуем вам студийную съемку или трансляцию вашего доклада;   У нас есть блоги на всех популярных платформах России и мира. Наши редакторы и профессиональные авторы еженедельно выпускают новые материалы;   Если вы написали статью, мы нарисуем для нее иллюстрации и поможем вам ее оформить и опубликовать. Если у вас есть только идея - редакторы помогут сформулировать мысли, оформить пост самостоятельно и правильно опубликовать для максимального охвата. Конечно, Evrone оплатит часы и любые затраты, потраченные на подготовку материала;   Возможность прокачаться в Open Source:   Если у вас есть популярные open source проекты – мы поможем с их продвижением и окажем поддержку в развитии;   Если вы контрибьютите в популярные проекты с открытым исходным кодом, мы оплатим часы, которые вы на это потратили.   Если вы ничего этого не делаете, но очень хочется начать – в Evrone есть менторы, которые помогут вам сделать первые шаги: подберут задачки для старта, помогут решить их и правильно оформить pr.   Отдых и развиртуализация: Мы считаем обязательным собираться вместе несколько раз в году. В Evrone есть несколько событий в году, которые собирают вместе весь наш коллектив. Поэтому, где бы вы ни находились, мы обязательно увидимся лично (компания оплатит вам дорогу и все расходы на корпоратив).  '},\n",
              " {'names': 'Python-разработчик',\n",
              "  'city_list': 'Москва',\n",
              "  'descriptions': 'ГК МКСКОМ — IT-интегратор с крупными федеральными клиентами. Мы занимаемся разработкой и внедрением различных EPM/ CPM-решений, созданием продуктов для развития бизнеса. В настоящее время мы ищем Python-разработчика уровня Junior, который будет занимается разработкой backend-микросервисов на Python для наших Клиентов в рамках существующих проектов, а также сервисов и решений для бизнеса, разрабатываемых МКСКОМ как самостоятельные продукты для рынка. Чем предстоит заниматься:  Развивать и дорабатывать существующие REST-API сервисы (полу-монолиты) и микросервисы Разрабатывать новые микросервисы, участвовать в проектировании их архитектуры, помогать в реализации Создавать и улучшать тестовое покрытие на проектах Участвовать в поиске решений по оптимизации производительности Делать доработки, находить и исправлять баги Развивать существующую инфраструктуру и предлагать идеи по улчшению рабочих процессов, пример кейса – внедрить профайлер в CICD Создавать учётные подсистемы, писать SQL запросы вручную/CRUD, пробовать оптимизировать написанное  Наш будущий коллега:  Знает основы информатики, модель OSI, что такое булева логика, байт, бит, двоичная система счисления и почему в компьютерах используется именно она Понимает что такое компьютер внутри. Знает базово как ОС (операционная система) взаимодействует с железом и что же она такое, а так же - как python с ней взаимодействует. Понимает базово в чём разница между Windows и Linux или хотя бы думал об этом и о самом главном – почему серверное ПО создаются под UNIX-ядро Понимает базово что такое интернет, как сайты/приложения попадают в интернет. Имеет представление о том, что такое браузер внутри. Слышал или иногда думал про взаимодействие между компьютерами, какую роль выполняет маршрутизатор, что такое IP-адреса, DNS, firewall Понимает разницу между http и https Знает язык Python уверенно: основы, синтаксис, функции, декораторы(замыкания), ООП, асинхронную модель, процессы, потоки. Слышал про GIL. Понимает почему python медленнее компилируемых языков Пробовал какой-либо REST-API framework (FastAPI, Flask ). Думал, в чём суть REST-API и почему оно называется так Понимает как работать с git Понимает где он пишет код, что такое IDE, как работать с отладчиком, как настраивать python проекты, как запускать чужие проекты Пробовал писать SQL-запросы Слышал про докер и хочет научиться им пользоваться, если не умеет Умеет планировать свою работу, сроки и загрузку в рамках адекватных дедлайнов Готов обучаться  Будет плюсом:  Релевантный опыт в любом одном из: SQL-запросы руками, пулы потоков/процессов, создание полноценного REST-API, публикация в интернет, документация в виде swagger/openapi Понимание SQL-запросов. Минусы использования ORM на проектах Хорошее понимание REST-API, умение проектировать его и правильно взаимодействовать с браузером. Понимание CORS Умение писать unit-тесты Умение писать benchmark-тесты Умение профилировать код Умение работать с докером Умение работать с СУБД Postgres/clickhouse/другие Умение работать с брокерами сообщений kafka/rabbit Понимание микросервисной архитектуры Понимание авторизационных механизмов, что есть JWT-токен. OAuth2.0 Понимание, что есть proxy-сервис, api-gateway, и как с этим работать Понимание принципов CI/CD Какие-либо знания про кубернетис Умение использовать ELK, имеется ввиду находить в Kibana логи Опыт работы с какими-либо компонентами, которые мы используем в нашем основном стеке: Postgres, ClickHouse, Kafka, Rabbit, Nginx, Kong, KeyCloack, Minio, FastApi, Docker, Docker-Compose.  От нас:  Оклад в зависимости от опыта, ориентированность на пожелания успешного кандидата Оформление в соответствии со всеми требованиями ТК РФ Возможность работать удаленно или в офисе (комфортные офисы в центре Москвы, Тамбова, Новосибирска, Тулы, Ижевска) Персональный ноутбук и все необходимое ПО Поддержка образовательных инициатив, внутреннее обучение для сотрудников с первого дня работы Полис ДМС Family Поддержка профессионального развития  ВАЖНО: Мы официальный участник программы развития IT-рынка в России от Минцифры, наши сотрудники получают все преференции программы:  Освобождение/ бронь от воинского призыва, Льготная ипотека Гранты на IT-разработки '}]"
            ]
          },
          "metadata": {},
          "execution_count": 208
        }
      ]
    },
    {
      "cell_type": "code",
      "source": [
        "# запись в json\n",
        "import json\n",
        "\n",
        "with open('hw_parsing.json', 'w') as f:\n",
        "    f.write(json.dumps(parsed_data, ensure_ascii=False, indent=4))"
      ],
      "metadata": {
        "id": "phDEJmlLyfsF"
      },
      "execution_count": 209,
      "outputs": []
    }
  ]
}